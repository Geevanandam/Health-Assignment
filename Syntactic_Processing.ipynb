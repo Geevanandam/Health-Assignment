{
  "cells": [
    {
      "cell_type": "markdown",
      "metadata": {
        "id": "view-in-github",
        "colab_type": "text"
      },
      "source": [
        "<a href=\"https://colab.research.google.com/github/Geevanandam/Health-Assignment/blob/main/Syntactic_Processing.ipynb\" target=\"_parent\"><img src=\"https://colab.research.google.com/assets/colab-badge.svg\" alt=\"Open In Colab\"/></a>"
      ]
    },
    {
      "cell_type": "markdown",
      "metadata": {
        "id": "xwi9mzFPPDv7"
      },
      "source": [
        "# Identifying Entities in Healthcare Data"
      ]
    },
    {
      "cell_type": "markdown",
      "source": [
        "Import Dataset Files for Processing"
      ],
      "metadata": {
        "id": "zKdCPuD3ZXx6"
      }
    },
    {
      "cell_type": "code",
      "source": [
        "!wget -c -O test_label https://raw.githubusercontent.com/Geevanandam/Health-Assignment/refs/heads/main/test_label\n",
        "!wget -c -O test_sent https://raw.githubusercontent.com/Geevanandam/Health-Assignment/refs/heads/main/test_sent\n",
        "!wget -c -O train_label https://raw.githubusercontent.com/Geevanandam/Health-Assignment/refs/heads/main/train_label\n",
        "!wget -c -O train_sent https://raw.githubusercontent.com/Geevanandam/Health-Assignment/refs/heads/main/train_sent"
      ],
      "metadata": {
        "colab": {
          "base_uri": "https://localhost:8080/"
        },
        "id": "iUJnvmPJZbpm",
        "outputId": "7aa18d2b-24e9-4b59-9dde-a23fdc38e441"
      },
      "execution_count": 14,
      "outputs": [
        {
          "output_type": "stream",
          "name": "stdout",
          "text": [
            "--2025-03-04 18:26:57--  https://raw.githubusercontent.com/Geevanandam/Health-Assignment/refs/heads/main/test_label\n",
            "Resolving raw.githubusercontent.com (raw.githubusercontent.com)... 185.199.108.133, 185.199.109.133, 185.199.111.133, ...\n",
            "Connecting to raw.githubusercontent.com (raw.githubusercontent.com)|185.199.108.133|:443... connected.\n",
            "HTTP request sent, awaiting response... 200 OK\n",
            "Length: 38292 (37K) [text/plain]\n",
            "Saving to: ‘test_label’\n",
            "\n",
            "\rtest_label            0%[                    ]       0  --.-KB/s               \rtest_label          100%[===================>]  37.39K  --.-KB/s    in 0.007s  \n",
            "\n",
            "2025-03-04 18:26:57 (5.07 MB/s) - ‘test_label’ saved [38292/38292]\n",
            "\n",
            "--2025-03-04 18:26:57--  https://raw.githubusercontent.com/Geevanandam/Health-Assignment/refs/heads/main/test_sent\n",
            "Resolving raw.githubusercontent.com (raw.githubusercontent.com)... 185.199.109.133, 185.199.108.133, 185.199.111.133, ...\n",
            "Connecting to raw.githubusercontent.com (raw.githubusercontent.com)|185.199.109.133|:443... connected.\n",
            "HTTP request sent, awaiting response... 200 OK\n",
            "Length: 121020 (118K) [text/plain]\n",
            "Saving to: ‘test_sent’\n",
            "\n",
            "test_sent           100%[===================>] 118.18K  --.-KB/s    in 0.02s   \n",
            "\n",
            "2025-03-04 18:26:58 (6.79 MB/s) - ‘test_sent’ saved [121020/121020]\n",
            "\n",
            "--2025-03-04 18:26:58--  https://raw.githubusercontent.com/Geevanandam/Health-Assignment/refs/heads/main/train_label\n",
            "Resolving raw.githubusercontent.com (raw.githubusercontent.com)... 185.199.108.133, 185.199.109.133, 185.199.110.133, ...\n",
            "Connecting to raw.githubusercontent.com (raw.githubusercontent.com)|185.199.108.133|:443... connected.\n",
            "HTTP request sent, awaiting response... 200 OK\n",
            "Length: 94403 (92K) [text/plain]\n",
            "Saving to: ‘train_label’\n",
            "\n",
            "train_label         100%[===================>]  92.19K  --.-KB/s    in 0.02s   \n",
            "\n",
            "2025-03-04 18:26:58 (4.75 MB/s) - ‘train_label’ saved [94403/94403]\n",
            "\n",
            "--2025-03-04 18:26:58--  https://raw.githubusercontent.com/Geevanandam/Health-Assignment/refs/heads/main/train_sent\n",
            "Resolving raw.githubusercontent.com (raw.githubusercontent.com)... 185.199.111.133, 185.199.110.133, 185.199.109.133, ...\n",
            "Connecting to raw.githubusercontent.com (raw.githubusercontent.com)|185.199.111.133|:443... connected.\n",
            "HTTP request sent, awaiting response... 200 OK\n",
            "Length: 301650 (295K) [text/plain]\n",
            "Saving to: ‘train_sent’\n",
            "\n",
            "train_sent          100%[===================>] 294.58K  --.-KB/s    in 0.03s   \n",
            "\n",
            "2025-03-04 18:26:58 (10.1 MB/s) - ‘train_sent’ saved [301650/301650]\n",
            "\n"
          ]
        }
      ]
    },
    {
      "cell_type": "markdown",
      "metadata": {
        "id": "3wwzoMzrUDtr"
      },
      "source": [
        "##Workspace set up: Import and Install useful packages."
      ]
    },
    {
      "cell_type": "code",
      "execution_count": 15,
      "metadata": {
        "colab": {
          "base_uri": "https://localhost:8080/"
        },
        "id": "T4hxafMCE1nn",
        "outputId": "ba223e6b-44b3-4a0b-a0a2-8f029b0c33ef"
      },
      "outputs": [
        {
          "output_type": "stream",
          "name": "stdout",
          "text": [
            "Requirement already satisfied: pycrf in /usr/local/lib/python3.11/dist-packages (0.0.1)\n",
            "Requirement already satisfied: sklearn-crfsuite in /usr/local/lib/python3.11/dist-packages (0.5.0)\n",
            "Requirement already satisfied: python-crfsuite>=0.9.7 in /usr/local/lib/python3.11/dist-packages (from sklearn-crfsuite) (0.9.11)\n",
            "Requirement already satisfied: scikit-learn>=0.24.0 in /usr/local/lib/python3.11/dist-packages (from sklearn-crfsuite) (1.6.1)\n",
            "Requirement already satisfied: tabulate>=0.4.2 in /usr/local/lib/python3.11/dist-packages (from sklearn-crfsuite) (0.9.0)\n",
            "Requirement already satisfied: tqdm>=2.0 in /usr/local/lib/python3.11/dist-packages (from sklearn-crfsuite) (4.67.1)\n",
            "Requirement already satisfied: numpy>=1.19.5 in /usr/local/lib/python3.11/dist-packages (from scikit-learn>=0.24.0->sklearn-crfsuite) (1.26.4)\n",
            "Requirement already satisfied: scipy>=1.6.0 in /usr/local/lib/python3.11/dist-packages (from scikit-learn>=0.24.0->sklearn-crfsuite) (1.13.1)\n",
            "Requirement already satisfied: joblib>=1.2.0 in /usr/local/lib/python3.11/dist-packages (from scikit-learn>=0.24.0->sklearn-crfsuite) (1.4.2)\n",
            "Requirement already satisfied: threadpoolctl>=3.1.0 in /usr/local/lib/python3.11/dist-packages (from scikit-learn>=0.24.0->sklearn-crfsuite) (3.5.0)\n",
            "Requirement already satisfied: pandas in /usr/local/lib/python3.11/dist-packages (2.2.2)\n",
            "Requirement already satisfied: numpy>=1.23.2 in /usr/local/lib/python3.11/dist-packages (from pandas) (1.26.4)\n",
            "Requirement already satisfied: python-dateutil>=2.8.2 in /usr/local/lib/python3.11/dist-packages (from pandas) (2.8.2)\n",
            "Requirement already satisfied: pytz>=2020.1 in /usr/local/lib/python3.11/dist-packages (from pandas) (2025.1)\n",
            "Requirement already satisfied: tzdata>=2022.7 in /usr/local/lib/python3.11/dist-packages (from pandas) (2025.1)\n",
            "Requirement already satisfied: six>=1.5 in /usr/local/lib/python3.11/dist-packages (from python-dateutil>=2.8.2->pandas) (1.17.0)\n",
            "Requirement already satisfied: matplotlib in /usr/local/lib/python3.11/dist-packages (3.10.0)\n",
            "Requirement already satisfied: contourpy>=1.0.1 in /usr/local/lib/python3.11/dist-packages (from matplotlib) (1.3.1)\n",
            "Requirement already satisfied: cycler>=0.10 in /usr/local/lib/python3.11/dist-packages (from matplotlib) (0.12.1)\n",
            "Requirement already satisfied: fonttools>=4.22.0 in /usr/local/lib/python3.11/dist-packages (from matplotlib) (4.56.0)\n",
            "Requirement already satisfied: kiwisolver>=1.3.1 in /usr/local/lib/python3.11/dist-packages (from matplotlib) (1.4.8)\n",
            "Requirement already satisfied: numpy>=1.23 in /usr/local/lib/python3.11/dist-packages (from matplotlib) (1.26.4)\n",
            "Requirement already satisfied: packaging>=20.0 in /usr/local/lib/python3.11/dist-packages (from matplotlib) (24.2)\n",
            "Requirement already satisfied: pillow>=8 in /usr/local/lib/python3.11/dist-packages (from matplotlib) (11.1.0)\n",
            "Requirement already satisfied: pyparsing>=2.3.1 in /usr/local/lib/python3.11/dist-packages (from matplotlib) (3.2.1)\n",
            "Requirement already satisfied: python-dateutil>=2.7 in /usr/local/lib/python3.11/dist-packages (from matplotlib) (2.8.2)\n",
            "Requirement already satisfied: six>=1.5 in /usr/local/lib/python3.11/dist-packages (from python-dateutil>=2.7->matplotlib) (1.17.0)\n",
            "Requirement already satisfied: spacy in /usr/local/lib/python3.11/dist-packages (3.7.5)\n",
            "Requirement already satisfied: spacy-legacy<3.1.0,>=3.0.11 in /usr/local/lib/python3.11/dist-packages (from spacy) (3.0.12)\n",
            "Requirement already satisfied: spacy-loggers<2.0.0,>=1.0.0 in /usr/local/lib/python3.11/dist-packages (from spacy) (1.0.5)\n",
            "Requirement already satisfied: murmurhash<1.1.0,>=0.28.0 in /usr/local/lib/python3.11/dist-packages (from spacy) (1.0.12)\n",
            "Requirement already satisfied: cymem<2.1.0,>=2.0.2 in /usr/local/lib/python3.11/dist-packages (from spacy) (2.0.11)\n",
            "Requirement already satisfied: preshed<3.1.0,>=3.0.2 in /usr/local/lib/python3.11/dist-packages (from spacy) (3.0.9)\n",
            "Requirement already satisfied: thinc<8.3.0,>=8.2.2 in /usr/local/lib/python3.11/dist-packages (from spacy) (8.2.5)\n",
            "Requirement already satisfied: wasabi<1.2.0,>=0.9.1 in /usr/local/lib/python3.11/dist-packages (from spacy) (1.1.3)\n",
            "Requirement already satisfied: srsly<3.0.0,>=2.4.3 in /usr/local/lib/python3.11/dist-packages (from spacy) (2.5.1)\n",
            "Requirement already satisfied: catalogue<2.1.0,>=2.0.6 in /usr/local/lib/python3.11/dist-packages (from spacy) (2.0.10)\n",
            "Requirement already satisfied: weasel<0.5.0,>=0.1.0 in /usr/local/lib/python3.11/dist-packages (from spacy) (0.4.1)\n",
            "Requirement already satisfied: typer<1.0.0,>=0.3.0 in /usr/local/lib/python3.11/dist-packages (from spacy) (0.15.1)\n",
            "Requirement already satisfied: tqdm<5.0.0,>=4.38.0 in /usr/local/lib/python3.11/dist-packages (from spacy) (4.67.1)\n",
            "Requirement already satisfied: requests<3.0.0,>=2.13.0 in /usr/local/lib/python3.11/dist-packages (from spacy) (2.32.3)\n",
            "Requirement already satisfied: pydantic!=1.8,!=1.8.1,<3.0.0,>=1.7.4 in /usr/local/lib/python3.11/dist-packages (from spacy) (2.10.6)\n",
            "Requirement already satisfied: jinja2 in /usr/local/lib/python3.11/dist-packages (from spacy) (3.1.5)\n",
            "Requirement already satisfied: setuptools in /usr/local/lib/python3.11/dist-packages (from spacy) (75.1.0)\n",
            "Requirement already satisfied: packaging>=20.0 in /usr/local/lib/python3.11/dist-packages (from spacy) (24.2)\n",
            "Requirement already satisfied: langcodes<4.0.0,>=3.2.0 in /usr/local/lib/python3.11/dist-packages (from spacy) (3.5.0)\n",
            "Requirement already satisfied: numpy>=1.19.0 in /usr/local/lib/python3.11/dist-packages (from spacy) (1.26.4)\n",
            "Requirement already satisfied: language-data>=1.2 in /usr/local/lib/python3.11/dist-packages (from langcodes<4.0.0,>=3.2.0->spacy) (1.3.0)\n",
            "Requirement already satisfied: annotated-types>=0.6.0 in /usr/local/lib/python3.11/dist-packages (from pydantic!=1.8,!=1.8.1,<3.0.0,>=1.7.4->spacy) (0.7.0)\n",
            "Requirement already satisfied: pydantic-core==2.27.2 in /usr/local/lib/python3.11/dist-packages (from pydantic!=1.8,!=1.8.1,<3.0.0,>=1.7.4->spacy) (2.27.2)\n",
            "Requirement already satisfied: typing-extensions>=4.12.2 in /usr/local/lib/python3.11/dist-packages (from pydantic!=1.8,!=1.8.1,<3.0.0,>=1.7.4->spacy) (4.12.2)\n",
            "Requirement already satisfied: charset-normalizer<4,>=2 in /usr/local/lib/python3.11/dist-packages (from requests<3.0.0,>=2.13.0->spacy) (3.4.1)\n",
            "Requirement already satisfied: idna<4,>=2.5 in /usr/local/lib/python3.11/dist-packages (from requests<3.0.0,>=2.13.0->spacy) (3.10)\n",
            "Requirement already satisfied: urllib3<3,>=1.21.1 in /usr/local/lib/python3.11/dist-packages (from requests<3.0.0,>=2.13.0->spacy) (2.3.0)\n",
            "Requirement already satisfied: certifi>=2017.4.17 in /usr/local/lib/python3.11/dist-packages (from requests<3.0.0,>=2.13.0->spacy) (2025.1.31)\n",
            "Requirement already satisfied: blis<0.8.0,>=0.7.8 in /usr/local/lib/python3.11/dist-packages (from thinc<8.3.0,>=8.2.2->spacy) (0.7.11)\n",
            "Requirement already satisfied: confection<1.0.0,>=0.0.1 in /usr/local/lib/python3.11/dist-packages (from thinc<8.3.0,>=8.2.2->spacy) (0.1.5)\n",
            "Requirement already satisfied: click>=8.0.0 in /usr/local/lib/python3.11/dist-packages (from typer<1.0.0,>=0.3.0->spacy) (8.1.8)\n",
            "Requirement already satisfied: shellingham>=1.3.0 in /usr/local/lib/python3.11/dist-packages (from typer<1.0.0,>=0.3.0->spacy) (1.5.4)\n",
            "Requirement already satisfied: rich>=10.11.0 in /usr/local/lib/python3.11/dist-packages (from typer<1.0.0,>=0.3.0->spacy) (13.9.4)\n",
            "Requirement already satisfied: cloudpathlib<1.0.0,>=0.7.0 in /usr/local/lib/python3.11/dist-packages (from weasel<0.5.0,>=0.1.0->spacy) (0.20.0)\n",
            "Requirement already satisfied: smart-open<8.0.0,>=5.2.1 in /usr/local/lib/python3.11/dist-packages (from weasel<0.5.0,>=0.1.0->spacy) (7.1.0)\n",
            "Requirement already satisfied: MarkupSafe>=2.0 in /usr/local/lib/python3.11/dist-packages (from jinja2->spacy) (3.0.2)\n",
            "Requirement already satisfied: marisa-trie>=1.1.0 in /usr/local/lib/python3.11/dist-packages (from language-data>=1.2->langcodes<4.0.0,>=3.2.0->spacy) (1.2.1)\n",
            "Requirement already satisfied: markdown-it-py>=2.2.0 in /usr/local/lib/python3.11/dist-packages (from rich>=10.11.0->typer<1.0.0,>=0.3.0->spacy) (3.0.0)\n",
            "Requirement already satisfied: pygments<3.0.0,>=2.13.0 in /usr/local/lib/python3.11/dist-packages (from rich>=10.11.0->typer<1.0.0,>=0.3.0->spacy) (2.18.0)\n",
            "Requirement already satisfied: wrapt in /usr/local/lib/python3.11/dist-packages (from smart-open<8.0.0,>=5.2.1->weasel<0.5.0,>=0.1.0->spacy) (1.17.2)\n",
            "Requirement already satisfied: mdurl~=0.1 in /usr/local/lib/python3.11/dist-packages (from markdown-it-py>=2.2.0->rich>=10.11.0->typer<1.0.0,>=0.3.0->spacy) (0.1.2)\n",
            "Collecting en-core-web-sm==3.7.1\n",
            "  Downloading https://github.com/explosion/spacy-models/releases/download/en_core_web_sm-3.7.1/en_core_web_sm-3.7.1-py3-none-any.whl (12.8 MB)\n",
            "\u001b[2K     \u001b[90m━━━━━━━━━━━━━━━━━━━━━━━━━━━━━━━━━━━━━━━━\u001b[0m \u001b[32m12.8/12.8 MB\u001b[0m \u001b[31m86.9 MB/s\u001b[0m eta \u001b[36m0:00:00\u001b[0m\n",
            "\u001b[?25hRequirement already satisfied: spacy<3.8.0,>=3.7.2 in /usr/local/lib/python3.11/dist-packages (from en-core-web-sm==3.7.1) (3.7.5)\n",
            "Requirement already satisfied: spacy-legacy<3.1.0,>=3.0.11 in /usr/local/lib/python3.11/dist-packages (from spacy<3.8.0,>=3.7.2->en-core-web-sm==3.7.1) (3.0.12)\n",
            "Requirement already satisfied: spacy-loggers<2.0.0,>=1.0.0 in /usr/local/lib/python3.11/dist-packages (from spacy<3.8.0,>=3.7.2->en-core-web-sm==3.7.1) (1.0.5)\n",
            "Requirement already satisfied: murmurhash<1.1.0,>=0.28.0 in /usr/local/lib/python3.11/dist-packages (from spacy<3.8.0,>=3.7.2->en-core-web-sm==3.7.1) (1.0.12)\n",
            "Requirement already satisfied: cymem<2.1.0,>=2.0.2 in /usr/local/lib/python3.11/dist-packages (from spacy<3.8.0,>=3.7.2->en-core-web-sm==3.7.1) (2.0.11)\n",
            "Requirement already satisfied: preshed<3.1.0,>=3.0.2 in /usr/local/lib/python3.11/dist-packages (from spacy<3.8.0,>=3.7.2->en-core-web-sm==3.7.1) (3.0.9)\n",
            "Requirement already satisfied: thinc<8.3.0,>=8.2.2 in /usr/local/lib/python3.11/dist-packages (from spacy<3.8.0,>=3.7.2->en-core-web-sm==3.7.1) (8.2.5)\n",
            "Requirement already satisfied: wasabi<1.2.0,>=0.9.1 in /usr/local/lib/python3.11/dist-packages (from spacy<3.8.0,>=3.7.2->en-core-web-sm==3.7.1) (1.1.3)\n",
            "Requirement already satisfied: srsly<3.0.0,>=2.4.3 in /usr/local/lib/python3.11/dist-packages (from spacy<3.8.0,>=3.7.2->en-core-web-sm==3.7.1) (2.5.1)\n",
            "Requirement already satisfied: catalogue<2.1.0,>=2.0.6 in /usr/local/lib/python3.11/dist-packages (from spacy<3.8.0,>=3.7.2->en-core-web-sm==3.7.1) (2.0.10)\n",
            "Requirement already satisfied: weasel<0.5.0,>=0.1.0 in /usr/local/lib/python3.11/dist-packages (from spacy<3.8.0,>=3.7.2->en-core-web-sm==3.7.1) (0.4.1)\n",
            "Requirement already satisfied: typer<1.0.0,>=0.3.0 in /usr/local/lib/python3.11/dist-packages (from spacy<3.8.0,>=3.7.2->en-core-web-sm==3.7.1) (0.15.1)\n",
            "Requirement already satisfied: tqdm<5.0.0,>=4.38.0 in /usr/local/lib/python3.11/dist-packages (from spacy<3.8.0,>=3.7.2->en-core-web-sm==3.7.1) (4.67.1)\n",
            "Requirement already satisfied: requests<3.0.0,>=2.13.0 in /usr/local/lib/python3.11/dist-packages (from spacy<3.8.0,>=3.7.2->en-core-web-sm==3.7.1) (2.32.3)\n",
            "Requirement already satisfied: pydantic!=1.8,!=1.8.1,<3.0.0,>=1.7.4 in /usr/local/lib/python3.11/dist-packages (from spacy<3.8.0,>=3.7.2->en-core-web-sm==3.7.1) (2.10.6)\n",
            "Requirement already satisfied: jinja2 in /usr/local/lib/python3.11/dist-packages (from spacy<3.8.0,>=3.7.2->en-core-web-sm==3.7.1) (3.1.5)\n",
            "Requirement already satisfied: setuptools in /usr/local/lib/python3.11/dist-packages (from spacy<3.8.0,>=3.7.2->en-core-web-sm==3.7.1) (75.1.0)\n",
            "Requirement already satisfied: packaging>=20.0 in /usr/local/lib/python3.11/dist-packages (from spacy<3.8.0,>=3.7.2->en-core-web-sm==3.7.1) (24.2)\n",
            "Requirement already satisfied: langcodes<4.0.0,>=3.2.0 in /usr/local/lib/python3.11/dist-packages (from spacy<3.8.0,>=3.7.2->en-core-web-sm==3.7.1) (3.5.0)\n",
            "Requirement already satisfied: numpy>=1.19.0 in /usr/local/lib/python3.11/dist-packages (from spacy<3.8.0,>=3.7.2->en-core-web-sm==3.7.1) (1.26.4)\n",
            "Requirement already satisfied: language-data>=1.2 in /usr/local/lib/python3.11/dist-packages (from langcodes<4.0.0,>=3.2.0->spacy<3.8.0,>=3.7.2->en-core-web-sm==3.7.1) (1.3.0)\n",
            "Requirement already satisfied: annotated-types>=0.6.0 in /usr/local/lib/python3.11/dist-packages (from pydantic!=1.8,!=1.8.1,<3.0.0,>=1.7.4->spacy<3.8.0,>=3.7.2->en-core-web-sm==3.7.1) (0.7.0)\n",
            "Requirement already satisfied: pydantic-core==2.27.2 in /usr/local/lib/python3.11/dist-packages (from pydantic!=1.8,!=1.8.1,<3.0.0,>=1.7.4->spacy<3.8.0,>=3.7.2->en-core-web-sm==3.7.1) (2.27.2)\n",
            "Requirement already satisfied: typing-extensions>=4.12.2 in /usr/local/lib/python3.11/dist-packages (from pydantic!=1.8,!=1.8.1,<3.0.0,>=1.7.4->spacy<3.8.0,>=3.7.2->en-core-web-sm==3.7.1) (4.12.2)\n",
            "Requirement already satisfied: charset-normalizer<4,>=2 in /usr/local/lib/python3.11/dist-packages (from requests<3.0.0,>=2.13.0->spacy<3.8.0,>=3.7.2->en-core-web-sm==3.7.1) (3.4.1)\n",
            "Requirement already satisfied: idna<4,>=2.5 in /usr/local/lib/python3.11/dist-packages (from requests<3.0.0,>=2.13.0->spacy<3.8.0,>=3.7.2->en-core-web-sm==3.7.1) (3.10)\n",
            "Requirement already satisfied: urllib3<3,>=1.21.1 in /usr/local/lib/python3.11/dist-packages (from requests<3.0.0,>=2.13.0->spacy<3.8.0,>=3.7.2->en-core-web-sm==3.7.1) (2.3.0)\n",
            "Requirement already satisfied: certifi>=2017.4.17 in /usr/local/lib/python3.11/dist-packages (from requests<3.0.0,>=2.13.0->spacy<3.8.0,>=3.7.2->en-core-web-sm==3.7.1) (2025.1.31)\n",
            "Requirement already satisfied: blis<0.8.0,>=0.7.8 in /usr/local/lib/python3.11/dist-packages (from thinc<8.3.0,>=8.2.2->spacy<3.8.0,>=3.7.2->en-core-web-sm==3.7.1) (0.7.11)\n",
            "Requirement already satisfied: confection<1.0.0,>=0.0.1 in /usr/local/lib/python3.11/dist-packages (from thinc<8.3.0,>=8.2.2->spacy<3.8.0,>=3.7.2->en-core-web-sm==3.7.1) (0.1.5)\n",
            "Requirement already satisfied: click>=8.0.0 in /usr/local/lib/python3.11/dist-packages (from typer<1.0.0,>=0.3.0->spacy<3.8.0,>=3.7.2->en-core-web-sm==3.7.1) (8.1.8)\n",
            "Requirement already satisfied: shellingham>=1.3.0 in /usr/local/lib/python3.11/dist-packages (from typer<1.0.0,>=0.3.0->spacy<3.8.0,>=3.7.2->en-core-web-sm==3.7.1) (1.5.4)\n",
            "Requirement already satisfied: rich>=10.11.0 in /usr/local/lib/python3.11/dist-packages (from typer<1.0.0,>=0.3.0->spacy<3.8.0,>=3.7.2->en-core-web-sm==3.7.1) (13.9.4)\n",
            "Requirement already satisfied: cloudpathlib<1.0.0,>=0.7.0 in /usr/local/lib/python3.11/dist-packages (from weasel<0.5.0,>=0.1.0->spacy<3.8.0,>=3.7.2->en-core-web-sm==3.7.1) (0.20.0)\n",
            "Requirement already satisfied: smart-open<8.0.0,>=5.2.1 in /usr/local/lib/python3.11/dist-packages (from weasel<0.5.0,>=0.1.0->spacy<3.8.0,>=3.7.2->en-core-web-sm==3.7.1) (7.1.0)\n",
            "Requirement already satisfied: MarkupSafe>=2.0 in /usr/local/lib/python3.11/dist-packages (from jinja2->spacy<3.8.0,>=3.7.2->en-core-web-sm==3.7.1) (3.0.2)\n",
            "Requirement already satisfied: marisa-trie>=1.1.0 in /usr/local/lib/python3.11/dist-packages (from language-data>=1.2->langcodes<4.0.0,>=3.2.0->spacy<3.8.0,>=3.7.2->en-core-web-sm==3.7.1) (1.2.1)\n",
            "Requirement already satisfied: markdown-it-py>=2.2.0 in /usr/local/lib/python3.11/dist-packages (from rich>=10.11.0->typer<1.0.0,>=0.3.0->spacy<3.8.0,>=3.7.2->en-core-web-sm==3.7.1) (3.0.0)\n",
            "Requirement already satisfied: pygments<3.0.0,>=2.13.0 in /usr/local/lib/python3.11/dist-packages (from rich>=10.11.0->typer<1.0.0,>=0.3.0->spacy<3.8.0,>=3.7.2->en-core-web-sm==3.7.1) (2.18.0)\n",
            "Requirement already satisfied: wrapt in /usr/local/lib/python3.11/dist-packages (from smart-open<8.0.0,>=5.2.1->weasel<0.5.0,>=0.1.0->spacy<3.8.0,>=3.7.2->en-core-web-sm==3.7.1) (1.17.2)\n",
            "Requirement already satisfied: mdurl~=0.1 in /usr/local/lib/python3.11/dist-packages (from markdown-it-py>=2.2.0->rich>=10.11.0->typer<1.0.0,>=0.3.0->spacy<3.8.0,>=3.7.2->en-core-web-sm==3.7.1) (0.1.2)\n",
            "\u001b[38;5;2m✔ Download and installation successful\u001b[0m\n",
            "You can now load the package via spacy.load('en_core_web_sm')\n",
            "\u001b[38;5;3m⚠ Restart to reload dependencies\u001b[0m\n",
            "If you are in a Jupyter or Colab notebook, you may need to restart Python in\n",
            "order to load all the package's dependencies. You can do this by selecting the\n",
            "'Restart kernel' or 'Restart runtime' option.\n"
          ]
        }
      ],
      "source": [
        "!pip install pycrf\n",
        "!pip install sklearn-crfsuite\n",
        "!pip install pandas\n",
        "!pip install matplotlib\n",
        "!pip install spacy\n",
        "!python -m spacy download en_core_web_sm\n",
        "\n",
        "import pandas as pd\n",
        "import matplotlib.pyplot as plt\n",
        "import spacy\n",
        "import sklearn_crfsuite\n",
        "from sklearn_crfsuite import metrics, CRF\n",
        "\n",
        "model = spacy.load(\"en_core_web_sm\")"
      ]
    },
    {
      "cell_type": "markdown",
      "metadata": {
        "id": "bE9Hwb3AUHwG"
      },
      "source": [
        "##Data Preprocessing\n",
        "\n",
        "The dataset provided is in the form of one word per line. Let's understand the format of data below:\n",
        "- Suppose there are *x* words in a sentence, then there will be *x* continuous lines with one word in each line.\n",
        "- Further, the two sentences are separated by empty lines. The labels for the data follow the same format.\n",
        "\n",
        "**We need to pre-process the data to recover the complete sentences and their labels.**\n"
      ]
    },
    {
      "cell_type": "markdown",
      "metadata": {
        "id": "nBU_BNUuK8tm"
      },
      "source": [
        "### Construct the proper sentences from individual words and print the 5 sentences."
      ]
    },
    {
      "cell_type": "markdown",
      "metadata": {
        "id": "b4OjXEhjhkCW"
      },
      "source": [
        "![image.png](data:image/png;base64,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)\n",
        "\n",
        "![image.png](data:image/png;base64,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)"
      ]
    },
    {
      "cell_type": "code",
      "execution_count": 16,
      "metadata": {
        "id": "bz6czVx9R6WJ"
      },
      "outputs": [],
      "source": [
        "# This function extracts sentences from the given file based on the separator.\n",
        "def sentence_extract(filepath='',sep=' '):\n",
        "    try:\n",
        "        with open (filepath,'r',encoding='utf-8') as file_text:\n",
        "            if file_text.mode  == 'r':\n",
        "                file_content = file_text.readlines()\n",
        "        sentences = []\n",
        "        each_sentence=''\n",
        "        for char in file_content:\n",
        "            # stripping end of line char\n",
        "            content_word = char.strip('\\n')\n",
        "            if content_word == '':\n",
        "                # Line break found. Append the sentence to the sentence list\n",
        "                sentences.append(each_sentence.strip(' '))\n",
        "                each_sentence=''\n",
        "            else:\n",
        "                # forming sentence\n",
        "                each_sentence += content_word + ' '\n",
        "\n",
        "        print('Total number of sentences: ',len(sentences),'\\n')\n",
        "        print('*'*50)\n",
        "        print('Top 5 sentences in the sentences list:\\n',sentences[:5])\n",
        "        return sentences\n",
        "    except FileNotFoundError:\n",
        "        print('File not found.')"
      ]
    },
    {
      "cell_type": "markdown",
      "metadata": {
        "id": "urCxIOBTMBwG"
      },
      "source": [
        "### Count the number of sentences in the processed train and test dataset"
      ]
    },
    {
      "cell_type": "code",
      "execution_count": 17,
      "metadata": {
        "colab": {
          "base_uri": "https://localhost:8080/"
        },
        "id": "zwa18H_IMFXV",
        "outputId": "b49be831-9bd7-43db-8277-81ba3ec1fb7f"
      },
      "outputs": [
        {
          "output_type": "stream",
          "name": "stdout",
          "text": [
            "Total number of sentences:  2599 \n",
            "\n",
            "**************************************************\n",
            "Top 5 sentences in the sentences list:\n",
            " ['All live births > or = 23 weeks at the University of Vermont in 1995 ( n = 2395 ) were retrospectively analyzed for delivery route , indication for cesarean , gestational age , parity , and practice group ( to reflect risk status )', 'The total cesarean rate was 14.4 % ( 344 of 2395 ) , and the primary rate was 11.4 % ( 244 of 2144 )', 'Abnormal presentation was the most common indication ( 25.6 % , 88 of 344 )', \"The `` corrected '' cesarean rate ( maternal-fetal medicine and transported patients excluded ) was 12.4 % ( 273 of 2194 ) , and the `` corrected '' primary rate was 9.6 % ( 190 of 1975 )\", \"Arrest of dilation was the most common indication in both `` corrected '' subgroups ( 23.4 and 24.6 % , respectively )\"]\n"
          ]
        }
      ],
      "source": [
        "# Creating and getting the count of sentences in TRAIN Dataset\n",
        "train_sent = sentence_extract(filepath='/content/train_sent',sep='\\n')\n",
        "\n",
        "# Also printing first five records"
      ]
    },
    {
      "cell_type": "code",
      "execution_count": 18,
      "metadata": {
        "colab": {
          "base_uri": "https://localhost:8080/"
        },
        "id": "3j4Xma6g-WlC",
        "outputId": "51648b99-2ab2-4ce9-f46f-f288575d05bd"
      },
      "outputs": [
        {
          "output_type": "stream",
          "name": "stdout",
          "text": [
            "Total number of sentences:  1056 \n",
            "\n",
            "**************************************************\n",
            "Top 5 sentences in the sentences list:\n",
            " ['Furthermore , when all deliveries were analyzed , regardless of risk status but limited to gestational age > or = 36 weeks , the rates did not change ( 12.6 % , 280 of 2214 ; primary 9.2 % , 183 of 1994 )', 'As the ambient temperature increases , there is an increase in insensible fluid loss and the potential for dehydration', 'The daily high temperature ranged from 71 to 104 degrees F and AFI values ranged from 1.7 to 24.7 cm during the study period', 'There was a significant correlation between the 2- , 3- , and 4-day mean temperature and AFI , with the 4-day mean being the most significant ( r = 0.31 , p & # 60 ; 0.001 )', 'Fluctuations in ambient temperature are inversely correlated to changes in AFI']\n"
          ]
        }
      ],
      "source": [
        "# Creating and getting the count of sentences in TEST Dataset\n",
        "test_sent = sentence_extract(filepath='/content/test_sent',sep='\\n')"
      ]
    },
    {
      "cell_type": "markdown",
      "metadata": {
        "id": "Jjg2DK7hLcO_"
      },
      "source": [
        "### Count the number of lines of labels in the processed train and test dataset."
      ]
    },
    {
      "cell_type": "code",
      "execution_count": 19,
      "metadata": {
        "colab": {
          "base_uri": "https://localhost:8080/"
        },
        "id": "unXoD2bWLPZD",
        "outputId": "f9a3e953-149f-4c00-c681-9f75a2f91c53"
      },
      "outputs": [
        {
          "output_type": "stream",
          "name": "stdout",
          "text": [
            "Total number of sentences:  2599 \n",
            "\n",
            "**************************************************\n",
            "Top 5 sentences in the sentences list:\n",
            " ['O O O O O O O O O O O O O O O O O O O O O O O O O O O O O O O O O O O O O O O O O O O O O', 'O O O O O O O O O O O O O O O O O O O O O O O O O', 'O O O O O O O O O O O O O O O', 'O O O O O O O O O O O O O O O O O O O O O O O O O O O O O O O O O O O O O O', 'O O O O O O O O O O O O O O O O O O O O O O']\n"
          ]
        }
      ],
      "source": [
        "# Creating and getting the count of number of lines of labels in TRAIN Dataset\n",
        "train_label = sentence_extract(filepath='/content/train_label',sep='\\n')"
      ]
    },
    {
      "cell_type": "code",
      "execution_count": 20,
      "metadata": {
        "colab": {
          "base_uri": "https://localhost:8080/"
        },
        "id": "TfAn1nAr_SE8",
        "outputId": "51824324-059c-4206-eac2-6b9df2dba11c"
      },
      "outputs": [
        {
          "output_type": "stream",
          "name": "stdout",
          "text": [
            "Total number of sentences:  1056 \n",
            "\n",
            "**************************************************\n",
            "Top 5 sentences in the sentences list:\n",
            " ['O O O O O O O O O O O O O O O O O O O O O O O O O O O O O O O O O O O O O O O O O O O O', 'O O O O O O O O O O O O O O O O O O O', 'O O O O O O O O O O O O O O O O O O O O O O O O', 'O O O O O O O O O O O O O O O O O O O O O O O O O O O O O O O O O O O O O O', 'O O O O O O O O O O O']\n"
          ]
        }
      ],
      "source": [
        "# Creating and getting the count of number of lines of labels in TEST Dataset\n",
        "test_label = sentence_extract(filepath='/content/test_label',sep='\\n')"
      ]
    },
    {
      "cell_type": "markdown",
      "metadata": {
        "id": "r9Hy2tECbd9a"
      },
      "source": [
        "##Concept Identification\n",
        "\n",
        "We will first explore what are the various concepts present in the dataset. For this, we will use PoS Tagging.\n",
        "\n"
      ]
    },
    {
      "cell_type": "markdown",
      "metadata": {
        "id": "3YGpfOK7Mk3X"
      },
      "source": [
        "### Extract those tokens which have NOUN or PROPN as their PoS tag and find their frequency"
      ]
    },
    {
      "cell_type": "code",
      "execution_count": 21,
      "metadata": {
        "id": "7w8nJSPlZqjw"
      },
      "outputs": [],
      "source": [
        "# Creating empty Train and Test dataframes for POS, Lemma tagging along with Labels\n",
        "train_df = pd.DataFrame(columns=['SENTENCE','WORD','POS','LEMMA','LABEL'])\n",
        "test_df = pd.DataFrame(columns=['SENTENCE','WORD','POS','LEMMA','LABEL'])"
      ]
    },
    {
      "cell_type": "code",
      "execution_count": 22,
      "metadata": {
        "id": "_BDQqSHBQwbI"
      },
      "outputs": [],
      "source": [
        "# Tokenizing Train datframe\n",
        "\n",
        "nlp= spacy.load(\"en_core_web_sm\")\n",
        "\n",
        "i=0\n",
        "j=0\n",
        "# for each sentence\n",
        "for sent, label in zip(train_sent, train_label):\n",
        "    i+=1\n",
        "    # for each word in a sentence\n",
        "    for word, lbl in zip(sent.split(), label.split()):\n",
        "        doc = nlp(word)\n",
        "        for tokn in doc:\n",
        "            train_df.loc[j,['SENTENCE','WORD','POS','LEMMA','LABEL']] = [i,tokn.text,tokn.pos_,tokn.lemma_,lbl]\n",
        "            j+=1"
      ]
    },
    {
      "cell_type": "code",
      "execution_count": 23,
      "metadata": {
        "id": "aaldevIUQ6FG"
      },
      "outputs": [],
      "source": [
        "# Tokenizing Test datframe\n",
        "\n",
        "i=0\n",
        "j=0\n",
        "# for each sentence\n",
        "for sent, label in zip(test_sent, test_label):\n",
        "    i+=1\n",
        "    # for each word in a sentence\n",
        "    for word,lbl in zip(sent.split(),label.split()):\n",
        "        doc = nlp(word)\n",
        "        for tokn in doc:\n",
        "            test_df.loc[j,['SENTENCE','WORD','POS','LEMMA','LABEL']] = [i,tokn.text,tokn.pos_,tokn.lemma_,lbl]\n",
        "            j+=1"
      ]
    },
    {
      "cell_type": "code",
      "execution_count": 24,
      "metadata": {
        "id": "kZeSH4YQRBKW"
      },
      "outputs": [],
      "source": [
        "# Concatenating TRAIN and TEST dataframes to find the top 25 most common tokens\n",
        "combined_data = pd.concat((train_df,test_df),axis=0)\n",
        "# Resetting index\n",
        "combined_data.reset_index(inplace=True,drop=True)"
      ]
    },
    {
      "cell_type": "markdown",
      "metadata": {
        "id": "-SQG8wRxMo6A"
      },
      "source": [
        "### Print the top 25 most common tokens with NOUN or PROPN PoS tags"
      ]
    },
    {
      "cell_type": "code",
      "execution_count": 25,
      "metadata": {
        "colab": {
          "base_uri": "https://localhost:8080/",
          "height": 899
        },
        "id": "DhDY4jjoawTa",
        "outputId": "8fdf9399-6d94-4bd2-82fe-1cc1cdd94a05"
      },
      "outputs": [
        {
          "output_type": "execute_result",
          "data": {
            "text/plain": [
              "WORD\n",
              "patients        492\n",
              "treatment       281\n",
              "cancer          200\n",
              "therapy         175\n",
              "disease         143\n",
              "cell            140\n",
              "lung            116\n",
              "group            94\n",
              "gene             88\n",
              "chemotherapy     88\n",
              "effects          85\n",
              "results          79\n",
              "women            77\n",
              "patient          75\n",
              "TO_SEE           75\n",
              "surgery          71\n",
              "risk             71\n",
              "cases            71\n",
              "analysis         70\n",
              "human            67\n",
              "rate             67\n",
              "response         66\n",
              "survival         65\n",
              "children         64\n",
              "effect           64\n",
              "Name: count, dtype: int64"
            ],
            "text/html": [
              "<div>\n",
              "<style scoped>\n",
              "    .dataframe tbody tr th:only-of-type {\n",
              "        vertical-align: middle;\n",
              "    }\n",
              "\n",
              "    .dataframe tbody tr th {\n",
              "        vertical-align: top;\n",
              "    }\n",
              "\n",
              "    .dataframe thead th {\n",
              "        text-align: right;\n",
              "    }\n",
              "</style>\n",
              "<table border=\"1\" class=\"dataframe\">\n",
              "  <thead>\n",
              "    <tr style=\"text-align: right;\">\n",
              "      <th></th>\n",
              "      <th>count</th>\n",
              "    </tr>\n",
              "    <tr>\n",
              "      <th>WORD</th>\n",
              "      <th></th>\n",
              "    </tr>\n",
              "  </thead>\n",
              "  <tbody>\n",
              "    <tr>\n",
              "      <th>patients</th>\n",
              "      <td>492</td>\n",
              "    </tr>\n",
              "    <tr>\n",
              "      <th>treatment</th>\n",
              "      <td>281</td>\n",
              "    </tr>\n",
              "    <tr>\n",
              "      <th>cancer</th>\n",
              "      <td>200</td>\n",
              "    </tr>\n",
              "    <tr>\n",
              "      <th>therapy</th>\n",
              "      <td>175</td>\n",
              "    </tr>\n",
              "    <tr>\n",
              "      <th>disease</th>\n",
              "      <td>143</td>\n",
              "    </tr>\n",
              "    <tr>\n",
              "      <th>cell</th>\n",
              "      <td>140</td>\n",
              "    </tr>\n",
              "    <tr>\n",
              "      <th>lung</th>\n",
              "      <td>116</td>\n",
              "    </tr>\n",
              "    <tr>\n",
              "      <th>group</th>\n",
              "      <td>94</td>\n",
              "    </tr>\n",
              "    <tr>\n",
              "      <th>gene</th>\n",
              "      <td>88</td>\n",
              "    </tr>\n",
              "    <tr>\n",
              "      <th>chemotherapy</th>\n",
              "      <td>88</td>\n",
              "    </tr>\n",
              "    <tr>\n",
              "      <th>effects</th>\n",
              "      <td>85</td>\n",
              "    </tr>\n",
              "    <tr>\n",
              "      <th>results</th>\n",
              "      <td>79</td>\n",
              "    </tr>\n",
              "    <tr>\n",
              "      <th>women</th>\n",
              "      <td>77</td>\n",
              "    </tr>\n",
              "    <tr>\n",
              "      <th>patient</th>\n",
              "      <td>75</td>\n",
              "    </tr>\n",
              "    <tr>\n",
              "      <th>TO_SEE</th>\n",
              "      <td>75</td>\n",
              "    </tr>\n",
              "    <tr>\n",
              "      <th>surgery</th>\n",
              "      <td>71</td>\n",
              "    </tr>\n",
              "    <tr>\n",
              "      <th>risk</th>\n",
              "      <td>71</td>\n",
              "    </tr>\n",
              "    <tr>\n",
              "      <th>cases</th>\n",
              "      <td>71</td>\n",
              "    </tr>\n",
              "    <tr>\n",
              "      <th>analysis</th>\n",
              "      <td>70</td>\n",
              "    </tr>\n",
              "    <tr>\n",
              "      <th>human</th>\n",
              "      <td>67</td>\n",
              "    </tr>\n",
              "    <tr>\n",
              "      <th>rate</th>\n",
              "      <td>67</td>\n",
              "    </tr>\n",
              "    <tr>\n",
              "      <th>response</th>\n",
              "      <td>66</td>\n",
              "    </tr>\n",
              "    <tr>\n",
              "      <th>survival</th>\n",
              "      <td>65</td>\n",
              "    </tr>\n",
              "    <tr>\n",
              "      <th>children</th>\n",
              "      <td>64</td>\n",
              "    </tr>\n",
              "    <tr>\n",
              "      <th>effect</th>\n",
              "      <td>64</td>\n",
              "    </tr>\n",
              "  </tbody>\n",
              "</table>\n",
              "</div><br><label><b>dtype:</b> int64</label>"
            ]
          },
          "metadata": {},
          "execution_count": 25
        }
      ],
      "source": [
        "top_25 = combined_data[(combined_data['POS'] == 'NOUN') | ((combined_data['POS'] == 'PROPN'))]['WORD'].value_counts()[:25]\n",
        "top_25"
      ]
    },
    {
      "cell_type": "code",
      "execution_count": 26,
      "metadata": {
        "colab": {
          "base_uri": "https://localhost:8080/",
          "height": 651
        },
        "id": "_q5aFxk7o22i",
        "outputId": "64f9df8d-0538-4acd-a920-36705931233e"
      },
      "outputs": [
        {
          "output_type": "display_data",
          "data": {
            "text/plain": [
              "<Figure size 1500x600 with 1 Axes>"
            ],
            "image/png": "[encoded data removed]"
          },
          "metadata": {}
        }
      ],
      "source": [
        "# plotting most frequent words for EDA\n",
        "plt.figure(figsize=(15,6))\n",
        "ax = top_25.plot.bar()\n",
        "ax.set_title('Words with most frequency')\n",
        "plt.show()"
      ]
    },
    {
      "cell_type": "code",
      "execution_count": 27,
      "metadata": {
        "colab": {
          "base_uri": "https://localhost:8080/",
          "height": 899
        },
        "id": "Mz6dXPicRe0p",
        "outputId": "a1ad793e-8519-441b-938d-52106e305874"
      },
      "outputs": [
        {
          "output_type": "execute_result",
          "data": {
            "text/plain": [
              "LEMMA\n",
              "patient         587\n",
              "treatment       316\n",
              "cancer          226\n",
              "cell            203\n",
              "therapy         182\n",
              "disease         172\n",
              "effect          163\n",
              "case            132\n",
              "group           128\n",
              "lung            120\n",
              "result          118\n",
              "gene            112\n",
              "year            105\n",
              "rate            102\n",
              "trial            91\n",
              "chemotherapy     91\n",
              "woman            89\n",
              "analysis         86\n",
              "protein          82\n",
              "response         81\n",
              "risk             78\n",
              "child            78\n",
              "human            77\n",
              "TO_SEE           75\n",
              "mutation         75\n",
              "Name: count, dtype: int64"
            ],
            "text/html": [
              "<div>\n",
              "<style scoped>\n",
              "    .dataframe tbody tr th:only-of-type {\n",
              "        vertical-align: middle;\n",
              "    }\n",
              "\n",
              "    .dataframe tbody tr th {\n",
              "        vertical-align: top;\n",
              "    }\n",
              "\n",
              "    .dataframe thead th {\n",
              "        text-align: right;\n",
              "    }\n",
              "</style>\n",
              "<table border=\"1\" class=\"dataframe\">\n",
              "  <thead>\n",
              "    <tr style=\"text-align: right;\">\n",
              "      <th></th>\n",
              "      <th>count</th>\n",
              "    </tr>\n",
              "    <tr>\n",
              "      <th>LEMMA</th>\n",
              "      <th></th>\n",
              "    </tr>\n",
              "  </thead>\n",
              "  <tbody>\n",
              "    <tr>\n",
              "      <th>patient</th>\n",
              "      <td>587</td>\n",
              "    </tr>\n",
              "    <tr>\n",
              "      <th>treatment</th>\n",
              "      <td>316</td>\n",
              "    </tr>\n",
              "    <tr>\n",
              "      <th>cancer</th>\n",
              "      <td>226</td>\n",
              "    </tr>\n",
              "    <tr>\n",
              "      <th>cell</th>\n",
              "      <td>203</td>\n",
              "    </tr>\n",
              "    <tr>\n",
              "      <th>therapy</th>\n",
              "      <td>182</td>\n",
              "    </tr>\n",
              "    <tr>\n",
              "      <th>disease</th>\n",
              "      <td>172</td>\n",
              "    </tr>\n",
              "    <tr>\n",
              "      <th>effect</th>\n",
              "      <td>163</td>\n",
              "    </tr>\n",
              "    <tr>\n",
              "      <th>case</th>\n",
              "      <td>132</td>\n",
              "    </tr>\n",
              "    <tr>\n",
              "      <th>group</th>\n",
              "      <td>128</td>\n",
              "    </tr>\n",
              "    <tr>\n",
              "      <th>lung</th>\n",
              "      <td>120</td>\n",
              "    </tr>\n",
              "    <tr>\n",
              "      <th>result</th>\n",
              "      <td>118</td>\n",
              "    </tr>\n",
              "    <tr>\n",
              "      <th>gene</th>\n",
              "      <td>112</td>\n",
              "    </tr>\n",
              "    <tr>\n",
              "      <th>year</th>\n",
              "      <td>105</td>\n",
              "    </tr>\n",
              "    <tr>\n",
              "      <th>rate</th>\n",
              "      <td>102</td>\n",
              "    </tr>\n",
              "    <tr>\n",
              "      <th>trial</th>\n",
              "      <td>91</td>\n",
              "    </tr>\n",
              "    <tr>\n",
              "      <th>chemotherapy</th>\n",
              "      <td>91</td>\n",
              "    </tr>\n",
              "    <tr>\n",
              "      <th>woman</th>\n",
              "      <td>89</td>\n",
              "    </tr>\n",
              "    <tr>\n",
              "      <th>analysis</th>\n",
              "      <td>86</td>\n",
              "    </tr>\n",
              "    <tr>\n",
              "      <th>protein</th>\n",
              "      <td>82</td>\n",
              "    </tr>\n",
              "    <tr>\n",
              "      <th>response</th>\n",
              "      <td>81</td>\n",
              "    </tr>\n",
              "    <tr>\n",
              "      <th>risk</th>\n",
              "      <td>78</td>\n",
              "    </tr>\n",
              "    <tr>\n",
              "      <th>child</th>\n",
              "      <td>78</td>\n",
              "    </tr>\n",
              "    <tr>\n",
              "      <th>human</th>\n",
              "      <td>77</td>\n",
              "    </tr>\n",
              "    <tr>\n",
              "      <th>TO_SEE</th>\n",
              "      <td>75</td>\n",
              "    </tr>\n",
              "    <tr>\n",
              "      <th>mutation</th>\n",
              "      <td>75</td>\n",
              "    </tr>\n",
              "  </tbody>\n",
              "</table>\n",
              "</div><br><label><b>dtype:</b> int64</label>"
            ]
          },
          "metadata": {},
          "execution_count": 27
        }
      ],
      "source": [
        " # Print the top 25 most common LEMMA words with NOUN and Proper noun POS tags\n",
        "top_25_lemma = combined_data[(combined_data['POS'] == 'NOUN') | ((combined_data['POS'] == 'PROPN'))]['LEMMA'].value_counts()[:25]\n",
        "top_25_lemma"
      ]
    },
    {
      "cell_type": "code",
      "execution_count": 28,
      "metadata": {
        "colab": {
          "base_uri": "https://localhost:8080/",
          "height": 805
        },
        "id": "R4bRhMdgrLxi",
        "outputId": "616fc213-9b6f-4c0e-bc73-702c27f0e060"
      },
      "outputs": [
        {
          "output_type": "display_data",
          "data": {
            "text/plain": [
              "<Figure size 1500x800 with 1 Axes>"
            ],
            "image/png": "[encoded data removed]"
          },
          "metadata": {}
        }
      ],
      "source": [
        "# plotting most frequent words for EDA\n",
        "plt.figure(figsize=(15,8))\n",
        "ax = top_25_lemma.plot.bar()\n",
        "ax.set_title('Lemmatized Words with most frequency')\n",
        "plt.show()"
      ]
    },
    {
      "cell_type": "markdown",
      "metadata": {
        "id": "ZvKvTnYnrnts"
      },
      "source": [
        "### OBSERVATION:\n",
        "- From both the graphs looks like the data is mostly for cancer and chemotherapy, followed by surgery are the most sought after Treatment\n",
        "- The data also shows diseases mostly in women followed by children\n",
        "- Most common organ affected is lungs"
      ]
    },
    {
      "cell_type": "code",
      "execution_count": 29,
      "metadata": {
        "colab": {
          "base_uri": "https://localhost:8080/",
          "height": 206
        },
        "id": "2KUVKSGpSnH5",
        "outputId": "accf779f-fc2d-4859-ad3c-ef207125e8f8"
      },
      "outputs": [
        {
          "output_type": "execute_result",
          "data": {
            "text/plain": [
              "  SENTENCE    WORD    POS  LEMMA LABEL\n",
              "0        1     All   PRON    all     O\n",
              "1        1    live   VERB   live     O\n",
              "2        1  births   NOUN  birth     O\n",
              "3        1       >  PUNCT      >     O\n",
              "4        1      or  CCONJ     or     O"
            ],
            "text/html": [
              "\n",
              "  <div id=\"df-3e05de95-f21a-4a75-a572-17bc5c221234\" class=\"colab-df-container\">\n",
              "    <div>\n",
              "<style scoped>\n",
              "    .dataframe tbody tr th:only-of-type {\n",
              "        vertical-align: middle;\n",
              "    }\n",
              "\n",
              "    .dataframe tbody tr th {\n",
              "        vertical-align: top;\n",
              "    }\n",
              "\n",
              "    .dataframe thead th {\n",
              "        text-align: right;\n",
              "    }\n",
              "</style>\n",
              "<table border=\"1\" class=\"dataframe\">\n",
              "  <thead>\n",
              "    <tr style=\"text-align: right;\">\n",
              "      <th></th>\n",
              "      <th>SENTENCE</th>\n",
              "      <th>WORD</th>\n",
              "      <th>POS</th>\n",
              "      <th>LEMMA</th>\n",
              "      <th>LABEL</th>\n",
              "    </tr>\n",
              "  </thead>\n",
              "  <tbody>\n",
              "    <tr>\n",
              "      <th>0</th>\n",
              "      <td>1</td>\n",
              "      <td>All</td>\n",
              "      <td>PRON</td>\n",
              "      <td>all</td>\n",
              "      <td>O</td>\n",
              "    </tr>\n",
              "    <tr>\n",
              "      <th>1</th>\n",
              "      <td>1</td>\n",
              "      <td>live</td>\n",
              "      <td>VERB</td>\n",
              "      <td>live</td>\n",
              "      <td>O</td>\n",
              "    </tr>\n",
              "    <tr>\n",
              "      <th>2</th>\n",
              "      <td>1</td>\n",
              "      <td>births</td>\n",
              "      <td>NOUN</td>\n",
              "      <td>birth</td>\n",
              "      <td>O</td>\n",
              "    </tr>\n",
              "    <tr>\n",
              "      <th>3</th>\n",
              "      <td>1</td>\n",
              "      <td>&gt;</td>\n",
              "      <td>PUNCT</td>\n",
              "      <td>&gt;</td>\n",
              "      <td>O</td>\n",
              "    </tr>\n",
              "    <tr>\n",
              "      <th>4</th>\n",
              "      <td>1</td>\n",
              "      <td>or</td>\n",
              "      <td>CCONJ</td>\n",
              "      <td>or</td>\n",
              "      <td>O</td>\n",
              "    </tr>\n",
              "  </tbody>\n",
              "</table>\n",
              "</div>\n",
              "    <div class=\"colab-df-buttons\">\n",
              "\n",
              "  <div class=\"colab-df-container\">\n",
              "    <button class=\"colab-df-convert\" onclick=\"convertToInteractive('df-3e05de95-f21a-4a75-a572-17bc5c221234')\"\n",
              "            title=\"Convert this dataframe to an interactive table.\"\n",
              "            style=\"display:none;\">\n",
              "\n",
              "  <svg xmlns=\"http://www.w3.org/2000/svg\" height=\"24px\" viewBox=\"0 -960 960 960\">\n",
              "    <path d=\"M120-120v-720h720v720H120Zm60-500h600v-160H180v160Zm220 220h160v-160H400v160Zm0 220h160v-160H400v160ZM180-400h160v-160H180v160Zm440 0h160v-160H620v160ZM180-180h160v-160H180v160Zm440 0h160v-160H620v160Z\"/>\n",
              "  </svg>\n",
              "    </button>\n",
              "\n",
              "  <style>\n",
              "    .colab-df-container {\n",
              "      display:flex;\n",
              "      gap: 12px;\n",
              "    }\n",
              "\n",
              "    .colab-df-convert {\n",
              "      background-color: #E8F0FE;\n",
              "      border: none;\n",
              "      border-radius: 50%;\n",
              "      cursor: pointer;\n",
              "      display: none;\n",
              "      fill: #1967D2;\n",
              "      height: 32px;\n",
              "      padding: 0 0 0 0;\n",
              "      width: 32px;\n",
              "    }\n",
              "\n",
              "    .colab-df-convert:hover {\n",
              "      background-color: #E2EBFA;\n",
              "      box-shadow: 0px 1px 2px rgba(60, 64, 67, 0.3), 0px 1px 3px 1px rgba(60, 64, 67, 0.15);\n",
              "      fill: #174EA6;\n",
              "    }\n",
              "\n",
              "    .colab-df-buttons div {\n",
              "      margin-bottom: 4px;\n",
              "    }\n",
              "\n",
              "    [theme=dark] .colab-df-convert {\n",
              "      background-color: #3B4455;\n",
              "      fill: #D2E3FC;\n",
              "    }\n",
              "\n",
              "    [theme=dark] .colab-df-convert:hover {\n",
              "      background-color: #434B5C;\n",
              "      box-shadow: 0px 1px 3px 1px rgba(0, 0, 0, 0.15);\n",
              "      filter: drop-shadow(0px 1px 2px rgba(0, 0, 0, 0.3));\n",
              "      fill: #FFFFFF;\n",
              "    }\n",
              "  </style>\n",
              "\n",
              "    <script>\n",
              "      const buttonEl =\n",
              "        document.querySelector('#df-3e05de95-f21a-4a75-a572-17bc5c221234 button.colab-df-convert');\n",
              "      buttonEl.style.display =\n",
              "        google.colab.kernel.accessAllowed ? 'block' : 'none';\n",
              "\n",
              "      async function convertToInteractive(key) {\n",
              "        const element = document.querySelector('#df-3e05de95-f21a-4a75-a572-17bc5c221234');\n",
              "        const dataTable =\n",
              "          await google.colab.kernel.invokeFunction('convertToInteractive',\n",
              "                                                    [key], {});\n",
              "        if (!dataTable) return;\n",
              "\n",
              "        const docLinkHtml = 'Like what you see? Visit the ' +\n",
              "          '<a target=\"_blank\" href=https://colab.research.google.com/notebooks/data_table.ipynb>data table notebook</a>'\n",
              "          + ' to learn more about interactive tables.';\n",
              "        element.innerHTML = '';\n",
              "        dataTable['output_type'] = 'display_data';\n",
              "        await google.colab.output.renderOutput(dataTable, element);\n",
              "        const docLink = document.createElement('div');\n",
              "        docLink.innerHTML = docLinkHtml;\n",
              "        element.appendChild(docLink);\n",
              "      }\n",
              "    </script>\n",
              "  </div>\n",
              "\n",
              "\n",
              "<div id=\"df-7a986e25-b86e-4b4e-ad38-ca16998712bf\">\n",
              "  <button class=\"colab-df-quickchart\" onclick=\"quickchart('df-7a986e25-b86e-4b4e-ad38-ca16998712bf')\"\n",
              "            title=\"Suggest charts\"\n",
              "            style=\"display:none;\">\n",
              "\n",
              "<svg xmlns=\"http://www.w3.org/2000/svg\" height=\"24px\"viewBox=\"0 0 24 24\"\n",
              "     width=\"24px\">\n",
              "    <g>\n",
              "        <path d=\"M19 3H5c-1.1 0-2 .9-2 2v14c0 1.1.9 2 2 2h14c1.1 0 2-.9 2-2V5c0-1.1-.9-2-2-2zM9 17H7v-7h2v7zm4 0h-2V7h2v10zm4 0h-2v-4h2v4z\"/>\n",
              "    </g>\n",
              "</svg>\n",
              "  </button>\n",
              "\n",
              "<style>\n",
              "  .colab-df-quickchart {\n",
              "      --bg-color: #E8F0FE;\n",
              "      --fill-color: #1967D2;\n",
              "      --hover-bg-color: #E2EBFA;\n",
              "      --hover-fill-color: #174EA6;\n",
              "      --disabled-fill-color: #AAA;\n",
              "      --disabled-bg-color: #DDD;\n",
              "  }\n",
              "\n",
              "  [theme=dark] .colab-df-quickchart {\n",
              "      --bg-color: #3B4455;\n",
              "      --fill-color: #D2E3FC;\n",
              "      --hover-bg-color: #434B5C;\n",
              "      --hover-fill-color: #FFFFFF;\n",
              "      --disabled-bg-color: #3B4455;\n",
              "      --disabled-fill-color: #666;\n",
              "  }\n",
              "\n",
              "  .colab-df-quickchart {\n",
              "    background-color: var(--bg-color);\n",
              "    border: none;\n",
              "    border-radius: 50%;\n",
              "    cursor: pointer;\n",
              "    display: none;\n",
              "    fill: var(--fill-color);\n",
              "    height: 32px;\n",
              "    padding: 0;\n",
              "    width: 32px;\n",
              "  }\n",
              "\n",
              "  .colab-df-quickchart:hover {\n",
              "    background-color: var(--hover-bg-color);\n",
              "    box-shadow: 0 1px 2px rgba(60, 64, 67, 0.3), 0 1px 3px 1px rgba(60, 64, 67, 0.15);\n",
              "    fill: var(--button-hover-fill-color);\n",
              "  }\n",
              "\n",
              "  .colab-df-quickchart-complete:disabled,\n",
              "  .colab-df-quickchart-complete:disabled:hover {\n",
              "    background-color: var(--disabled-bg-color);\n",
              "    fill: var(--disabled-fill-color);\n",
              "    box-shadow: none;\n",
              "  }\n",
              "\n",
              "  .colab-df-spinner {\n",
              "    border: 2px solid var(--fill-color);\n",
              "    border-color: transparent;\n",
              "    border-bottom-color: var(--fill-color);\n",
              "    animation:\n",
              "      spin 1s steps(1) infinite;\n",
              "  }\n",
              "\n",
              "  @keyframes spin {\n",
              "    0% {\n",
              "      border-color: transparent;\n",
              "      border-bottom-color: var(--fill-color);\n",
              "      border-left-color: var(--fill-color);\n",
              "    }\n",
              "    20% {\n",
              "      border-color: transparent;\n",
              "      border-left-color: var(--fill-color);\n",
              "      border-top-color: var(--fill-color);\n",
              "    }\n",
              "    30% {\n",
              "      border-color: transparent;\n",
              "      border-left-color: var(--fill-color);\n",
              "      border-top-color: var(--fill-color);\n",
              "      border-right-color: var(--fill-color);\n",
              "    }\n",
              "    40% {\n",
              "      border-color: transparent;\n",
              "      border-right-color: var(--fill-color);\n",
              "      border-top-color: var(--fill-color);\n",
              "    }\n",
              "    60% {\n",
              "      border-color: transparent;\n",
              "      border-right-color: var(--fill-color);\n",
              "    }\n",
              "    80% {\n",
              "      border-color: transparent;\n",
              "      border-right-color: var(--fill-color);\n",
              "      border-bottom-color: var(--fill-color);\n",
              "    }\n",
              "    90% {\n",
              "      border-color: transparent;\n",
              "      border-bottom-color: var(--fill-color);\n",
              "    }\n",
              "  }\n",
              "</style>\n",
              "\n",
              "  <script>\n",
              "    async function quickchart(key) {\n",
              "      const quickchartButtonEl =\n",
              "        document.querySelector('#' + key + ' button');\n",
              "      quickchartButtonEl.disabled = true;  // To prevent multiple clicks.\n",
              "      quickchartButtonEl.classList.add('colab-df-spinner');\n",
              "      try {\n",
              "        const charts = await google.colab.kernel.invokeFunction(\n",
              "            'suggestCharts', [key], {});\n",
              "      } catch (error) {\n",
              "        console.error('Error during call to suggestCharts:', error);\n",
              "      }\n",
              "      quickchartButtonEl.classList.remove('colab-df-spinner');\n",
              "      quickchartButtonEl.classList.add('colab-df-quickchart-complete');\n",
              "    }\n",
              "    (() => {\n",
              "      let quickchartButtonEl =\n",
              "        document.querySelector('#df-7a986e25-b86e-4b4e-ad38-ca16998712bf button');\n",
              "      quickchartButtonEl.style.display =\n",
              "        google.colab.kernel.accessAllowed ? 'block' : 'none';\n",
              "    })();\n",
              "  </script>\n",
              "</div>\n",
              "\n",
              "    </div>\n",
              "  </div>\n"
            ],
            "application/vnd.google.colaboratory.intrinsic+json": {
              "type": "dataframe",
              "variable_name": "train_df",
              "summary": "{\n  \"name\": \"train_df\",\n  \"rows\": 48324,\n  \"fields\": [\n    {\n      \"column\": \"SENTENCE\",\n      \"properties\": {\n        \"dtype\": \"date\",\n        \"min\": 1,\n        \"max\": 2599,\n        \"num_unique_values\": 2599,\n        \"samples\": [\n          1594,\n          197,\n          240\n        ],\n        \"semantic_type\": \"\",\n        \"description\": \"\"\n      }\n    },\n    {\n      \"column\": \"WORD\",\n      \"properties\": {\n        \"dtype\": \"category\",\n        \"num_unique_values\": 8978,\n        \"samples\": [\n          \"orf31\",\n          \"groups\",\n          \"Olanzapine\"\n        ],\n        \"semantic_type\": \"\",\n        \"description\": \"\"\n      }\n    },\n    {\n      \"column\": \"POS\",\n      \"properties\": {\n        \"dtype\": \"category\",\n        \"num_unique_values\": 17,\n        \"samples\": [\n          \"PRON\",\n          \"VERB\",\n          \"NUM\"\n        ],\n        \"semantic_type\": \"\",\n        \"description\": \"\"\n      }\n    },\n    {\n      \"column\": \"LEMMA\",\n      \"properties\": {\n        \"dtype\": \"category\",\n        \"num_unique_values\": 7103,\n        \"samples\": [\n          \"77\",\n          \"colorimetric\",\n          \"carboxylate\"\n        ],\n        \"semantic_type\": \"\",\n        \"description\": \"\"\n      }\n    },\n    {\n      \"column\": \"LABEL\",\n      \"properties\": {\n        \"dtype\": \"category\",\n        \"num_unique_values\": 3,\n        \"samples\": [\n          \"O\",\n          \"D\",\n          \"T\"\n        ],\n        \"semantic_type\": \"\",\n        \"description\": \"\"\n      }\n    }\n  ]\n}"
            }
          },
          "metadata": {},
          "execution_count": 29
        }
      ],
      "source": [
        "# Train dataframe with tokens\n",
        "train_df.head()"
      ]
    },
    {
      "cell_type": "code",
      "execution_count": 30,
      "metadata": {
        "colab": {
          "base_uri": "https://localhost:8080/",
          "height": 206
        },
        "id": "l9YTjb8XSrTb",
        "outputId": "e513d368-2aa7-489c-c08e-66dc8c52c587"
      },
      "outputs": [
        {
          "output_type": "execute_result",
          "data": {
            "text/plain": [
              "  SENTENCE         WORD    POS        LEMMA LABEL\n",
              "0        1  Furthermore    ADV  furthermore     O\n",
              "1        1            ,  PUNCT            ,     O\n",
              "2        1         when  SCONJ         when     O\n",
              "3        1          all   PRON          all     O\n",
              "4        1   deliveries   NOUN     delivery     O"
            ],
            "text/html": [
              "\n",
              "  <div id=\"df-7a63294b-dee6-42c5-8fed-be3f87bc5064\" class=\"colab-df-container\">\n",
              "    <div>\n",
              "<style scoped>\n",
              "    .dataframe tbody tr th:only-of-type {\n",
              "        vertical-align: middle;\n",
              "    }\n",
              "\n",
              "    .dataframe tbody tr th {\n",
              "        vertical-align: top;\n",
              "    }\n",
              "\n",
              "    .dataframe thead th {\n",
              "        text-align: right;\n",
              "    }\n",
              "</style>\n",
              "<table border=\"1\" class=\"dataframe\">\n",
              "  <thead>\n",
              "    <tr style=\"text-align: right;\">\n",
              "      <th></th>\n",
              "      <th>SENTENCE</th>\n",
              "      <th>WORD</th>\n",
              "      <th>POS</th>\n",
              "      <th>LEMMA</th>\n",
              "      <th>LABEL</th>\n",
              "    </tr>\n",
              "  </thead>\n",
              "  <tbody>\n",
              "    <tr>\n",
              "      <th>0</th>\n",
              "      <td>1</td>\n",
              "      <td>Furthermore</td>\n",
              "      <td>ADV</td>\n",
              "      <td>furthermore</td>\n",
              "      <td>O</td>\n",
              "    </tr>\n",
              "    <tr>\n",
              "      <th>1</th>\n",
              "      <td>1</td>\n",
              "      <td>,</td>\n",
              "      <td>PUNCT</td>\n",
              "      <td>,</td>\n",
              "      <td>O</td>\n",
              "    </tr>\n",
              "    <tr>\n",
              "      <th>2</th>\n",
              "      <td>1</td>\n",
              "      <td>when</td>\n",
              "      <td>SCONJ</td>\n",
              "      <td>when</td>\n",
              "      <td>O</td>\n",
              "    </tr>\n",
              "    <tr>\n",
              "      <th>3</th>\n",
              "      <td>1</td>\n",
              "      <td>all</td>\n",
              "      <td>PRON</td>\n",
              "      <td>all</td>\n",
              "      <td>O</td>\n",
              "    </tr>\n",
              "    <tr>\n",
              "      <th>4</th>\n",
              "      <td>1</td>\n",
              "      <td>deliveries</td>\n",
              "      <td>NOUN</td>\n",
              "      <td>delivery</td>\n",
              "      <td>O</td>\n",
              "    </tr>\n",
              "  </tbody>\n",
              "</table>\n",
              "</div>\n",
              "    <div class=\"colab-df-buttons\">\n",
              "\n",
              "  <div class=\"colab-df-container\">\n",
              "    <button class=\"colab-df-convert\" onclick=\"convertToInteractive('df-7a63294b-dee6-42c5-8fed-be3f87bc5064')\"\n",
              "            title=\"Convert this dataframe to an interactive table.\"\n",
              "            style=\"display:none;\">\n",
              "\n",
              "  <svg xmlns=\"http://www.w3.org/2000/svg\" height=\"24px\" viewBox=\"0 -960 960 960\">\n",
              "    <path d=\"M120-120v-720h720v720H120Zm60-500h600v-160H180v160Zm220 220h160v-160H400v160Zm0 220h160v-160H400v160ZM180-400h160v-160H180v160Zm440 0h160v-160H620v160ZM180-180h160v-160H180v160Zm440 0h160v-160H620v160Z\"/>\n",
              "  </svg>\n",
              "    </button>\n",
              "\n",
              "  <style>\n",
              "    .colab-df-container {\n",
              "      display:flex;\n",
              "      gap: 12px;\n",
              "    }\n",
              "\n",
              "    .colab-df-convert {\n",
              "      background-color: #E8F0FE;\n",
              "      border: none;\n",
              "      border-radius: 50%;\n",
              "      cursor: pointer;\n",
              "      display: none;\n",
              "      fill: #1967D2;\n",
              "      height: 32px;\n",
              "      padding: 0 0 0 0;\n",
              "      width: 32px;\n",
              "    }\n",
              "\n",
              "    .colab-df-convert:hover {\n",
              "      background-color: #E2EBFA;\n",
              "      box-shadow: 0px 1px 2px rgba(60, 64, 67, 0.3), 0px 1px 3px 1px rgba(60, 64, 67, 0.15);\n",
              "      fill: #174EA6;\n",
              "    }\n",
              "\n",
              "    .colab-df-buttons div {\n",
              "      margin-bottom: 4px;\n",
              "    }\n",
              "\n",
              "    [theme=dark] .colab-df-convert {\n",
              "      background-color: #3B4455;\n",
              "      fill: #D2E3FC;\n",
              "    }\n",
              "\n",
              "    [theme=dark] .colab-df-convert:hover {\n",
              "      background-color: #434B5C;\n",
              "      box-shadow: 0px 1px 3px 1px rgba(0, 0, 0, 0.15);\n",
              "      filter: drop-shadow(0px 1px 2px rgba(0, 0, 0, 0.3));\n",
              "      fill: #FFFFFF;\n",
              "    }\n",
              "  </style>\n",
              "\n",
              "    <script>\n",
              "      const buttonEl =\n",
              "        document.querySelector('#df-7a63294b-dee6-42c5-8fed-be3f87bc5064 button.colab-df-convert');\n",
              "      buttonEl.style.display =\n",
              "        google.colab.kernel.accessAllowed ? 'block' : 'none';\n",
              "\n",
              "      async function convertToInteractive(key) {\n",
              "        const element = document.querySelector('#df-7a63294b-dee6-42c5-8fed-be3f87bc5064');\n",
              "        const dataTable =\n",
              "          await google.colab.kernel.invokeFunction('convertToInteractive',\n",
              "                                                    [key], {});\n",
              "        if (!dataTable) return;\n",
              "\n",
              "        const docLinkHtml = 'Like what you see? Visit the ' +\n",
              "          '<a target=\"_blank\" href=https://colab.research.google.com/notebooks/data_table.ipynb>data table notebook</a>'\n",
              "          + ' to learn more about interactive tables.';\n",
              "        element.innerHTML = '';\n",
              "        dataTable['output_type'] = 'display_data';\n",
              "        await google.colab.output.renderOutput(dataTable, element);\n",
              "        const docLink = document.createElement('div');\n",
              "        docLink.innerHTML = docLinkHtml;\n",
              "        element.appendChild(docLink);\n",
              "      }\n",
              "    </script>\n",
              "  </div>\n",
              "\n",
              "\n",
              "<div id=\"df-dbbd6df7-c27d-4e4b-8f53-d954d8d19f85\">\n",
              "  <button class=\"colab-df-quickchart\" onclick=\"quickchart('df-dbbd6df7-c27d-4e4b-8f53-d954d8d19f85')\"\n",
              "            title=\"Suggest charts\"\n",
              "            style=\"display:none;\">\n",
              "\n",
              "<svg xmlns=\"http://www.w3.org/2000/svg\" height=\"24px\"viewBox=\"0 0 24 24\"\n",
              "     width=\"24px\">\n",
              "    <g>\n",
              "        <path d=\"M19 3H5c-1.1 0-2 .9-2 2v14c0 1.1.9 2 2 2h14c1.1 0 2-.9 2-2V5c0-1.1-.9-2-2-2zM9 17H7v-7h2v7zm4 0h-2V7h2v10zm4 0h-2v-4h2v4z\"/>\n",
              "    </g>\n",
              "</svg>\n",
              "  </button>\n",
              "\n",
              "<style>\n",
              "  .colab-df-quickchart {\n",
              "      --bg-color: #E8F0FE;\n",
              "      --fill-color: #1967D2;\n",
              "      --hover-bg-color: #E2EBFA;\n",
              "      --hover-fill-color: #174EA6;\n",
              "      --disabled-fill-color: #AAA;\n",
              "      --disabled-bg-color: #DDD;\n",
              "  }\n",
              "\n",
              "  [theme=dark] .colab-df-quickchart {\n",
              "      --bg-color: #3B4455;\n",
              "      --fill-color: #D2E3FC;\n",
              "      --hover-bg-color: #434B5C;\n",
              "      --hover-fill-color: #FFFFFF;\n",
              "      --disabled-bg-color: #3B4455;\n",
              "      --disabled-fill-color: #666;\n",
              "  }\n",
              "\n",
              "  .colab-df-quickchart {\n",
              "    background-color: var(--bg-color);\n",
              "    border: none;\n",
              "    border-radius: 50%;\n",
              "    cursor: pointer;\n",
              "    display: none;\n",
              "    fill: var(--fill-color);\n",
              "    height: 32px;\n",
              "    padding: 0;\n",
              "    width: 32px;\n",
              "  }\n",
              "\n",
              "  .colab-df-quickchart:hover {\n",
              "    background-color: var(--hover-bg-color);\n",
              "    box-shadow: 0 1px 2px rgba(60, 64, 67, 0.3), 0 1px 3px 1px rgba(60, 64, 67, 0.15);\n",
              "    fill: var(--button-hover-fill-color);\n",
              "  }\n",
              "\n",
              "  .colab-df-quickchart-complete:disabled,\n",
              "  .colab-df-quickchart-complete:disabled:hover {\n",
              "    background-color: var(--disabled-bg-color);\n",
              "    fill: var(--disabled-fill-color);\n",
              "    box-shadow: none;\n",
              "  }\n",
              "\n",
              "  .colab-df-spinner {\n",
              "    border: 2px solid var(--fill-color);\n",
              "    border-color: transparent;\n",
              "    border-bottom-color: var(--fill-color);\n",
              "    animation:\n",
              "      spin 1s steps(1) infinite;\n",
              "  }\n",
              "\n",
              "  @keyframes spin {\n",
              "    0% {\n",
              "      border-color: transparent;\n",
              "      border-bottom-color: var(--fill-color);\n",
              "      border-left-color: var(--fill-color);\n",
              "    }\n",
              "    20% {\n",
              "      border-color: transparent;\n",
              "      border-left-color: var(--fill-color);\n",
              "      border-top-color: var(--fill-color);\n",
              "    }\n",
              "    30% {\n",
              "      border-color: transparent;\n",
              "      border-left-color: var(--fill-color);\n",
              "      border-top-color: var(--fill-color);\n",
              "      border-right-color: var(--fill-color);\n",
              "    }\n",
              "    40% {\n",
              "      border-color: transparent;\n",
              "      border-right-color: var(--fill-color);\n",
              "      border-top-color: var(--fill-color);\n",
              "    }\n",
              "    60% {\n",
              "      border-color: transparent;\n",
              "      border-right-color: var(--fill-color);\n",
              "    }\n",
              "    80% {\n",
              "      border-color: transparent;\n",
              "      border-right-color: var(--fill-color);\n",
              "      border-bottom-color: var(--fill-color);\n",
              "    }\n",
              "    90% {\n",
              "      border-color: transparent;\n",
              "      border-bottom-color: var(--fill-color);\n",
              "    }\n",
              "  }\n",
              "</style>\n",
              "\n",
              "  <script>\n",
              "    async function quickchart(key) {\n",
              "      const quickchartButtonEl =\n",
              "        document.querySelector('#' + key + ' button');\n",
              "      quickchartButtonEl.disabled = true;  // To prevent multiple clicks.\n",
              "      quickchartButtonEl.classList.add('colab-df-spinner');\n",
              "      try {\n",
              "        const charts = await google.colab.kernel.invokeFunction(\n",
              "            'suggestCharts', [key], {});\n",
              "      } catch (error) {\n",
              "        console.error('Error during call to suggestCharts:', error);\n",
              "      }\n",
              "      quickchartButtonEl.classList.remove('colab-df-spinner');\n",
              "      quickchartButtonEl.classList.add('colab-df-quickchart-complete');\n",
              "    }\n",
              "    (() => {\n",
              "      let quickchartButtonEl =\n",
              "        document.querySelector('#df-dbbd6df7-c27d-4e4b-8f53-d954d8d19f85 button');\n",
              "      quickchartButtonEl.style.display =\n",
              "        google.colab.kernel.accessAllowed ? 'block' : 'none';\n",
              "    })();\n",
              "  </script>\n",
              "</div>\n",
              "\n",
              "    </div>\n",
              "  </div>\n"
            ],
            "application/vnd.google.colaboratory.intrinsic+json": {
              "type": "dataframe",
              "variable_name": "test_df",
              "summary": "{\n  \"name\": \"test_df\",\n  \"rows\": 19583,\n  \"fields\": [\n    {\n      \"column\": \"SENTENCE\",\n      \"properties\": {\n        \"dtype\": \"date\",\n        \"min\": 1,\n        \"max\": 1056,\n        \"num_unique_values\": 1056,\n        \"samples\": [\n          261,\n          833,\n          847\n        ],\n        \"semantic_type\": \"\",\n        \"description\": \"\"\n      }\n    },\n    {\n      \"column\": \"WORD\",\n      \"properties\": {\n        \"dtype\": \"category\",\n        \"num_unique_values\": 5231,\n        \"samples\": [\n          \"equipment\",\n          \"14\",\n          \"sunlight\"\n        ],\n        \"semantic_type\": \"\",\n        \"description\": \"\"\n      }\n    },\n    {\n      \"column\": \"POS\",\n      \"properties\": {\n        \"dtype\": \"category\",\n        \"num_unique_values\": 17,\n        \"samples\": [\n          \"ADV\",\n          \"PUNCT\",\n          \"AUX\"\n        ],\n        \"semantic_type\": \"\",\n        \"description\": \"\"\n      }\n    },\n    {\n      \"column\": \"LEMMA\",\n      \"properties\": {\n        \"dtype\": \"category\",\n        \"num_unique_values\": 4324,\n        \"samples\": [\n          \"UA\",\n          \"or\",\n          \"tracheobronchus\"\n        ],\n        \"semantic_type\": \"\",\n        \"description\": \"\"\n      }\n    },\n    {\n      \"column\": \"LABEL\",\n      \"properties\": {\n        \"dtype\": \"category\",\n        \"num_unique_values\": 3,\n        \"samples\": [\n          \"O\",\n          \"D\",\n          \"T\"\n        ],\n        \"semantic_type\": \"\",\n        \"description\": \"\"\n      }\n    }\n  ]\n}"
            }
          },
          "metadata": {},
          "execution_count": 30
        }
      ],
      "source": [
        "# Test dataframe with tokens\n",
        "test_df.head()"
      ]
    },
    {
      "cell_type": "markdown",
      "metadata": {
        "id": "bnfAlKgA5fd4"
      },
      "source": [
        "## Defining features for CRF\n",
        "\n",
        "\n",
        "\n"
      ]
    },
    {
      "cell_type": "code",
      "execution_count": 31,
      "metadata": {
        "id": "aS6P1Gog3JMf"
      },
      "outputs": [],
      "source": [
        "# Let's define the features to get the feature value for one word.\n",
        "\n",
        "def Features_From_Word(sentence, pos, pos_tags):\n",
        "  word = sentence[pos]\n",
        "\n",
        "  features = [\n",
        "    'word.lower=' + word.lower(), # id for the word\n",
        "    'word[-2:]=' + word[-2:],     # last 2 characters\n",
        "    'word[-3:]=' + word[-3:],     # last 3 characters\n",
        "    'word.isupper=%s' % word.isupper(),  # is uppercase\n",
        "    'word.isdigit=%s' % word.isdigit(),  # is number\n",
        "    'word.startsWithCapital=%s' % word[0].isupper(), # starts with Capital\n",
        "    'word.pos=' + pos_tags[pos], # pos tag\n",
        "    'word.pos_isnoun=%s' % (pos_tags[pos] in ['NOUN','PROPN'])\n",
        "  ]\n",
        "\n",
        "  # previous word features\n",
        "  if(pos > 0):\n",
        "    prev_word = sentence[pos-1]\n",
        "    features.extend([\n",
        "    'prev_word.lower=' + prev_word.lower(),\n",
        "    'prev_word.isupper=%s' % prev_word.isupper(),\n",
        "    'prev_word.isdigit=%s' % prev_word.isdigit(),\n",
        "    'prev_word.startsWithCapital=%s' % prev_word[0].isupper(),\n",
        "    'prev_word.pos=' + pos_tags[pos-1],\n",
        "    'prev_word.pos_isnoun=%s' % (pos_tags[pos] in ['NOUN','PROPN'])\n",
        "  ])\n",
        "  # marking beginning and end of sentences\n",
        "  else:\n",
        "    features.append('BEG') # feature for beginning of sentence\n",
        "\n",
        "  if(pos == len(sentence)-1):\n",
        "    features.append('END') # feature for end of sentence\n",
        "\n",
        "  return features\n"
      ]
    },
    {
      "cell_type": "markdown",
      "metadata": {
        "id": "haBEOsZGKhb9"
      },
      "source": [
        "## Getting the features"
      ]
    },
    {
      "cell_type": "markdown",
      "metadata": {
        "id": "Fwb8YUdlNcG1"
      },
      "source": [
        "### Write a code/function to get the features for a sentence"
      ]
    },
    {
      "cell_type": "code",
      "execution_count": 32,
      "metadata": {
        "id": "emBIm5uK7vtK"
      },
      "outputs": [],
      "source": [
        "# Write a code to get features for a sentence.\n",
        "def Features_From_Sentence(sentence):\n",
        "\n",
        "    # We need to get the pos_tags to be passed to the function\n",
        "    tokenized_sentence = nlp(sentence)\n",
        "    postags = []\n",
        "\n",
        "    for each_tokn in tokenized_sentence:\n",
        "        postags.append(each_tokn.pos_)\n",
        "\n",
        "    sentence_list = sentence.split()\n",
        "    return [Features_From_Word(sentence_list, pos, postags) for pos in range(len(sentence_list))]\n"
      ]
    },
    {
      "cell_type": "markdown",
      "metadata": {
        "id": "A7fs-B8CNein"
      },
      "source": [
        "### Write a code/function to get the labels of a sentence"
      ]
    },
    {
      "cell_type": "code",
      "execution_count": 33,
      "metadata": {
        "id": "tiA-A_ws8I8-"
      },
      "outputs": [],
      "source": [
        "# Write a code to get the labels for a sentence.\n",
        "def Labels_From_Sentence(labels):\n",
        "  return labels.split()"
      ]
    },
    {
      "cell_type": "code",
      "execution_count": 34,
      "metadata": {
        "colab": {
          "base_uri": "https://localhost:8080/"
        },
        "id": "lGjGhTUGTLnQ",
        "outputId": "180558a2-cae1-4fea-887d-e148022af5ee"
      },
      "outputs": [
        {
          "output_type": "stream",
          "name": "stdout",
          "text": [
            "All live births > or = 23 weeks at the University of Vermont in 1995 ( n = 2395 ) were retrospectively analyzed for delivery route , indication for cesarean , gestational age , parity , and practice group ( to reflect risk status )\n"
          ]
        },
        {
          "output_type": "execute_result",
          "data": {
            "text/plain": [
              "['word.lower=births',\n",
              " 'word[-2:]=hs',\n",
              " 'word[-3:]=ths',\n",
              " 'word.isupper=False',\n",
              " 'word.isdigit=False',\n",
              " 'word.startsWithCapital=False',\n",
              " 'word.pos=NOUN',\n",
              " 'word.pos_isnoun=True',\n",
              " 'prev_word.lower=live',\n",
              " 'prev_word.isupper=False',\n",
              " 'prev_word.isdigit=False',\n",
              " 'prev_word.startsWithCapital=False',\n",
              " 'prev_word.pos=ADJ',\n",
              " 'prev_word.pos_isnoun=True']"
            ]
          },
          "metadata": {},
          "execution_count": 34
        }
      ],
      "source": [
        "# Call function 'Features_From_Sentence' to get features for first sentence in train_sentences\n",
        "example_sentence = train_sent[0]\n",
        "print(example_sentence)\n",
        "\n",
        "features = Features_From_Sentence(example_sentence)\n",
        "\n",
        "# checking if features are extracted correctly for 3rd word in first sentence of train dataset\n",
        "features[2]"
      ]
    },
    {
      "cell_type": "markdown",
      "metadata": {
        "id": "QG6hYY6rNjS8"
      },
      "source": [
        "## Define input and target variables\n"
      ]
    },
    {
      "cell_type": "markdown",
      "metadata": {
        "id": "DZmjKbXgN44o"
      },
      "source": [
        "Correctly computing X and Y sequence matrices for training and test data.\n",
        "Check that both sentences and labels are processed"
      ]
    },
    {
      "cell_type": "markdown",
      "metadata": {
        "id": "U1C4djFXNpqN"
      },
      "source": [
        "### Define the features' values for each sentence as input variable  for CRF model in test and the train dataset"
      ]
    },
    {
      "cell_type": "code",
      "execution_count": 35,
      "metadata": {
        "id": "8Nuz-MjW8LWm"
      },
      "outputs": [],
      "source": [
        "X_train = [Features_From_Sentence(sentence) for sentence in train_sent]\n",
        "X_test = [Features_From_Sentence(sentence) for sentence in test_sent]"
      ]
    },
    {
      "cell_type": "code",
      "execution_count": 36,
      "metadata": {
        "colab": {
          "base_uri": "https://localhost:8080/"
        },
        "id": "aDfVrmyTV_PK",
        "outputId": "6f9120d6-1895-487d-df78-1bc6cdbb70ae"
      },
      "outputs": [
        {
          "output_type": "stream",
          "name": "stdout",
          "text": [
            "[['word.lower=all', 'word[-2:]=ll', 'word[-3:]=All', 'word.isupper=False', 'word.isdigit=False', 'word.startsWithCapital=True', 'word.pos=DET', 'word.pos_isnoun=False', 'BEG'], ['word.lower=live', 'word[-2:]=ve', 'word[-3:]=ive', 'word.isupper=False', 'word.isdigit=False', 'word.startsWithCapital=False', 'word.pos=ADJ', 'word.pos_isnoun=False', 'prev_word.lower=all', 'prev_word.isupper=False', 'prev_word.isdigit=False', 'prev_word.startsWithCapital=True', 'prev_word.pos=DET', 'prev_word.pos_isnoun=False'], ['word.lower=births', 'word[-2:]=hs', 'word[-3:]=ths', 'word.isupper=False', 'word.isdigit=False', 'word.startsWithCapital=False', 'word.pos=NOUN', 'word.pos_isnoun=True', 'prev_word.lower=live', 'prev_word.isupper=False', 'prev_word.isdigit=False', 'prev_word.startsWithCapital=False', 'prev_word.pos=ADJ', 'prev_word.pos_isnoun=True']]\n",
            "[['word.lower=furthermore', 'word[-2:]=re', 'word[-3:]=ore', 'word.isupper=False', 'word.isdigit=False', 'word.startsWithCapital=True', 'word.pos=ADV', 'word.pos_isnoun=False', 'BEG'], ['word.lower=,', 'word[-2:]=,', 'word[-3:]=,', 'word.isupper=False', 'word.isdigit=False', 'word.startsWithCapital=False', 'word.pos=PUNCT', 'word.pos_isnoun=False', 'prev_word.lower=furthermore', 'prev_word.isupper=False', 'prev_word.isdigit=False', 'prev_word.startsWithCapital=True', 'prev_word.pos=ADV', 'prev_word.pos_isnoun=False'], ['word.lower=when', 'word[-2:]=en', 'word[-3:]=hen', 'word.isupper=False', 'word.isdigit=False', 'word.startsWithCapital=False', 'word.pos=SCONJ', 'word.pos_isnoun=False', 'prev_word.lower=,', 'prev_word.isupper=False', 'prev_word.isdigit=False', 'prev_word.startsWithCapital=False', 'prev_word.pos=PUNCT', 'prev_word.pos_isnoun=False']]\n"
          ]
        }
      ],
      "source": [
        "# checking X_train and X_test\n",
        "print(X_train[0][:3])\n",
        "print(X_test[0][:3])"
      ]
    },
    {
      "cell_type": "markdown",
      "metadata": {
        "id": "q88-s6BQNr0M"
      },
      "source": [
        "### Define the labels as the target variable for test and the train dataset"
      ]
    },
    {
      "cell_type": "code",
      "execution_count": 37,
      "metadata": {
        "id": "HrzLkWs0Nvx4"
      },
      "outputs": [],
      "source": [
        "Y_train = [Labels_From_Sentence(labels) for labels in train_label]\n",
        "Y_test = [Labels_From_Sentence(labels) for labels in test_label]"
      ]
    },
    {
      "cell_type": "code",
      "execution_count": 38,
      "metadata": {
        "colab": {
          "base_uri": "https://localhost:8080/"
        },
        "id": "_tWQmbS-W15s",
        "outputId": "6f2bc954-8988-49ca-8b91-9afa8db89cf2"
      },
      "outputs": [
        {
          "output_type": "stream",
          "name": "stdout",
          "text": [
            "['O', 'O', 'O']\n",
            "['O', 'O', 'O']\n"
          ]
        }
      ],
      "source": [
        "# checking Y_train and Y_test\n",
        "print(Y_train[0][:3])\n",
        "print(Y_test[0][:3])"
      ]
    },
    {
      "cell_type": "markdown",
      "metadata": {
        "id": "YrIAz8gqN_Js"
      },
      "source": [
        "## Build the CRF Model"
      ]
    },
    {
      "cell_type": "code",
      "execution_count": 39,
      "metadata": {
        "id": "k2oGSiqQ8Otd"
      },
      "outputs": [],
      "source": [
        "# Building the CRF model with max iteration 100\n",
        "# Regularization term c1 and c2 are chosen as 1.0 and 0.01 after many experimentation for the best results based on F1 score\n",
        "crf = CRF(max_iterations=100, c1=1.0, c2=0.01, all_possible_transitions=False)\n",
        "\n",
        "# fit the model\n",
        "try:\n",
        "    crf.fit(X_train, Y_train)\n",
        "except AttributeError:\n",
        "    pass"
      ]
    },
    {
      "cell_type": "markdown",
      "metadata": {
        "id": "5VPFrPZJOJMq"
      },
      "source": [
        "## Evaluation"
      ]
    },
    {
      "cell_type": "markdown",
      "metadata": {
        "id": "84gUagMZOP9B"
      },
      "source": [
        "### Predict the labels of each of the tokens in each sentence of the test dataset that has been pre processed earlier."
      ]
    },
    {
      "cell_type": "code",
      "execution_count": 40,
      "metadata": {
        "id": "D_sDJs1n8-sI"
      },
      "outputs": [],
      "source": [
        "Y_pred = crf.predict(X_test)\n"
      ]
    },
    {
      "cell_type": "markdown",
      "metadata": {
        "id": "qIneYrqZOUiJ"
      },
      "source": [
        "### Calculate the f1 score using the actual labels and the predicted labels of the test dataset."
      ]
    },
    {
      "cell_type": "code",
      "execution_count": 41,
      "metadata": {
        "colab": {
          "base_uri": "https://localhost:8080/"
        },
        "id": "Lr_JNIgrOTcr",
        "outputId": "48575478-edf0-4b89-c5b2-9bda4c00d2d0"
      },
      "outputs": [
        {
          "output_type": "stream",
          "name": "stdout",
          "text": [
            "F1-score for Medical NER Dataset : 91.57 % \n"
          ]
        }
      ],
      "source": [
        "# Calculate the f1 score using the test data\n",
        "f1_score = metrics.flat_f1_score(Y_test, Y_pred, average='weighted')\n",
        "print('F1-score for Medical NER Dataset : {0} % '.format(round(f1_score*100,2)))"
      ]
    },
    {
      "cell_type": "code",
      "execution_count": 42,
      "metadata": {
        "colab": {
          "base_uri": "https://localhost:8080/"
        },
        "id": "vKWoilhncb6p",
        "outputId": "ce9caa1b-a699-4705-ea47-39c91e7f8dc4"
      },
      "outputs": [
        {
          "output_type": "stream",
          "name": "stdout",
          "text": [
            "Precision score for Medical NER Dataset : 91.54 % \n",
            "Recall score for Medical NER Dataset : 92.16 % \n",
            "Accuracy score for Medical NER Dataset : 92.16 % \n"
          ]
        }
      ],
      "source": [
        "# Calculate the f1 score using the test data\n",
        "precision = metrics.flat_precision_score(Y_test, Y_pred, average='weighted')\n",
        "recall  = metrics.flat_recall_score(Y_test, Y_pred, average='weighted')\n",
        "accuracy = metrics.flat_accuracy_score(Y_test, Y_pred)\n",
        "print('Precision score for Medical NER Dataset : {0} % '.format(round(precision*100,2)))\n",
        "print('Recall score for Medical NER Dataset : {0} % '.format(round(recall*100,2)))\n",
        "print('Accuracy score for Medical NER Dataset : {0} % '.format(round(accuracy*100,2)))"
      ]
    },
    {
      "cell_type": "markdown",
      "metadata": {
        "id": "ORDyDw6sYHf5"
      },
      "source": [
        "##Identifying Diseases and Treatments using Custom NER\n",
        "\n",
        "We now use the CRF model's prediction to prepare a record of diseases identified in the corpus and treatments used for the diseases.\n",
        "\n"
      ]
    },
    {
      "cell_type": "markdown",
      "metadata": {
        "id": "V9aOa7LEOcWu"
      },
      "source": [
        "### Create the logic to get all the predicted treatments (T) labels corresponding to each disease (D) label in the test dataset."
      ]
    },
    {
      "cell_type": "markdown",
      "metadata": {
        "id": "sWxZ2TaOqN-u"
      },
      "source": [
        "![image.png](data:image/png;base64,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)"
      ]
    },
    {
      "cell_type": "code",
      "execution_count": 43,
      "metadata": {
        "colab": {
          "base_uri": "https://localhost:8080/"
        },
        "id": "7wmOhHNNfV5b",
        "outputId": "d8a79d84-48f2-40b7-9862-a0fecdd77ae3"
      },
      "outputs": [
        {
          "output_type": "stream",
          "name": "stdout",
          "text": [
            "[list(['O', 'O', 'O', 'O', 'O', 'O', 'O', 'O', 'O', 'O', 'O', 'O', 'O', 'O', 'O', 'O', 'O', 'O', 'O', 'O', 'O', 'O', 'O', 'O', 'O', 'O', 'O', 'O', 'O', 'O', 'O', 'O', 'O', 'O', 'O', 'O', 'O', 'O', 'O', 'O', 'O', 'O', 'O', 'O'])\n",
            " list(['O', 'O', 'O', 'O', 'O', 'O', 'O', 'O', 'O', 'O', 'O', 'O', 'O', 'O', 'O', 'O', 'O', 'O', 'O'])\n",
            " list(['O', 'O', 'O', 'O', 'O', 'O', 'O', 'O', 'O', 'O', 'O', 'O', 'O', 'O', 'O', 'O', 'O', 'O', 'O', 'O', 'O', 'O', 'O', 'O'])\n",
            " ... list(['T', 'T', 'O', 'O', 'O', 'O', 'O', 'D', 'D', 'D'])\n",
            " list(['T', 'T', 'T', 'T', 'T', 'T', 'T', 'T', 'T', 'O', 'O', 'O', 'O', 'O', 'O', 'O', 'D', 'D', 'D'])\n",
            " list(['O', 'O', 'O', 'O', 'O', 'O', 'O'])]\n"
          ]
        }
      ],
      "source": [
        "print(Y_pred)"
      ]
    },
    {
      "cell_type": "code",
      "execution_count": 44,
      "metadata": {
        "id": "alCjDz14gP3T"
      },
      "outputs": [],
      "source": [
        "# Creating dictionary for the diseases and recommended Treatments for the same\n",
        "DiseaseTreatment_dict = dict()\n",
        "\n",
        "for i in range(len(Y_pred)):\n",
        "\n",
        "    # tag of each sentence as per prediction\n",
        "    DTO_tag = Y_pred[i]\n",
        "    Diseases = \"\"\n",
        "    Treatments = \"\"\n",
        "\n",
        "    # Iterating over DTO tag of each word in a sentence\n",
        "    # to obtain Disease and Treatment from it\n",
        "    for j in range(len(DTO_tag)):\n",
        "        if DTO_tag[j] == 'D': # for obtaining Disease\n",
        "            Diseases += test_sent[i].split()[j] + \" \"\n",
        "        elif DTO_tag[j] == 'T': # for obtaining Treatment\n",
        "            Treatments += test_sent[i].split()[j] + \" \"\n",
        "\n",
        "    # Removing extra white space\n",
        "    Diseases = Diseases.lstrip().rstrip()\n",
        "    Treatments = Treatments.lstrip().rstrip()\n",
        "\n",
        "    # Adding Disease and Treatments to dictionary\n",
        "    if Diseases != \"\" and Treatments != \"\":\n",
        "        if Diseases in DiseaseTreatment_dict.keys(): # disease key already present\n",
        "            treatment_out = list([Diseases])\n",
        "            treatment_out.append(Treatments)   # append treatment\n",
        "            DiseaseTreatment_dict[Diseases] = treatment_out\n",
        "        elif Diseases not in DiseaseTreatment_dict.keys(): # adding disease and treatment if not present in dictionary\n",
        "            DiseaseTreatment_dict[Diseases] = Treatments"
      ]
    },
    {
      "cell_type": "code",
      "execution_count": 45,
      "metadata": {
        "colab": {
          "base_uri": "https://localhost:8080/",
          "height": 206
        },
        "id": "CCR8xhoNUbNv",
        "outputId": "e6025fef-e785-40ae-d42d-4b32f1f977cf"
      },
      "outputs": [
        {
          "output_type": "execute_result",
          "data": {
            "text/plain": [
              "                                            Diseases  \\\n",
              "0                               gestational diabetes   \n",
              "1                          hereditary retinoblastoma   \n",
              "2                                           epilepsy   \n",
              "3  unstable angina or non-Q-wave myocardial infar...   \n",
              "4                            coronary-artery disease   \n",
              "\n",
              "                    Treatment  \n",
              "0       good glycemic control  \n",
              "1                radiotherapy  \n",
              "2             Methylphenidate  \n",
              "3               roxithromycin  \n",
              "4  Antichlamydial antibiotics  "
            ],
            "text/html": [
              "\n",
              "  <div id=\"df-20109389-850a-4d49-b547-889e467c8f36\" class=\"colab-df-container\">\n",
              "    <div>\n",
              "<style scoped>\n",
              "    .dataframe tbody tr th:only-of-type {\n",
              "        vertical-align: middle;\n",
              "    }\n",
              "\n",
              "    .dataframe tbody tr th {\n",
              "        vertical-align: top;\n",
              "    }\n",
              "\n",
              "    .dataframe thead th {\n",
              "        text-align: right;\n",
              "    }\n",
              "</style>\n",
              "<table border=\"1\" class=\"dataframe\">\n",
              "  <thead>\n",
              "    <tr style=\"text-align: right;\">\n",
              "      <th></th>\n",
              "      <th>Diseases</th>\n",
              "      <th>Treatment</th>\n",
              "    </tr>\n",
              "  </thead>\n",
              "  <tbody>\n",
              "    <tr>\n",
              "      <th>0</th>\n",
              "      <td>gestational diabetes</td>\n",
              "      <td>good glycemic control</td>\n",
              "    </tr>\n",
              "    <tr>\n",
              "      <th>1</th>\n",
              "      <td>hereditary retinoblastoma</td>\n",
              "      <td>radiotherapy</td>\n",
              "    </tr>\n",
              "    <tr>\n",
              "      <th>2</th>\n",
              "      <td>epilepsy</td>\n",
              "      <td>Methylphenidate</td>\n",
              "    </tr>\n",
              "    <tr>\n",
              "      <th>3</th>\n",
              "      <td>unstable angina or non-Q-wave myocardial infar...</td>\n",
              "      <td>roxithromycin</td>\n",
              "    </tr>\n",
              "    <tr>\n",
              "      <th>4</th>\n",
              "      <td>coronary-artery disease</td>\n",
              "      <td>Antichlamydial antibiotics</td>\n",
              "    </tr>\n",
              "  </tbody>\n",
              "</table>\n",
              "</div>\n",
              "    <div class=\"colab-df-buttons\">\n",
              "\n",
              "  <div class=\"colab-df-container\">\n",
              "    <button class=\"colab-df-convert\" onclick=\"convertToInteractive('df-20109389-850a-4d49-b547-889e467c8f36')\"\n",
              "            title=\"Convert this dataframe to an interactive table.\"\n",
              "            style=\"display:none;\">\n",
              "\n",
              "  <svg xmlns=\"http://www.w3.org/2000/svg\" height=\"24px\" viewBox=\"0 -960 960 960\">\n",
              "    <path d=\"M120-120v-720h720v720H120Zm60-500h600v-160H180v160Zm220 220h160v-160H400v160Zm0 220h160v-160H400v160ZM180-400h160v-160H180v160Zm440 0h160v-160H620v160ZM180-180h160v-160H180v160Zm440 0h160v-160H620v160Z\"/>\n",
              "  </svg>\n",
              "    </button>\n",
              "\n",
              "  <style>\n",
              "    .colab-df-container {\n",
              "      display:flex;\n",
              "      gap: 12px;\n",
              "    }\n",
              "\n",
              "    .colab-df-convert {\n",
              "      background-color: #E8F0FE;\n",
              "      border: none;\n",
              "      border-radius: 50%;\n",
              "      cursor: pointer;\n",
              "      display: none;\n",
              "      fill: #1967D2;\n",
              "      height: 32px;\n",
              "      padding: 0 0 0 0;\n",
              "      width: 32px;\n",
              "    }\n",
              "\n",
              "    .colab-df-convert:hover {\n",
              "      background-color: #E2EBFA;\n",
              "      box-shadow: 0px 1px 2px rgba(60, 64, 67, 0.3), 0px 1px 3px 1px rgba(60, 64, 67, 0.15);\n",
              "      fill: #174EA6;\n",
              "    }\n",
              "\n",
              "    .colab-df-buttons div {\n",
              "      margin-bottom: 4px;\n",
              "    }\n",
              "\n",
              "    [theme=dark] .colab-df-convert {\n",
              "      background-color: #3B4455;\n",
              "      fill: #D2E3FC;\n",
              "    }\n",
              "\n",
              "    [theme=dark] .colab-df-convert:hover {\n",
              "      background-color: #434B5C;\n",
              "      box-shadow: 0px 1px 3px 1px rgba(0, 0, 0, 0.15);\n",
              "      filter: drop-shadow(0px 1px 2px rgba(0, 0, 0, 0.3));\n",
              "      fill: #FFFFFF;\n",
              "    }\n",
              "  </style>\n",
              "\n",
              "    <script>\n",
              "      const buttonEl =\n",
              "        document.querySelector('#df-20109389-850a-4d49-b547-889e467c8f36 button.colab-df-convert');\n",
              "      buttonEl.style.display =\n",
              "        google.colab.kernel.accessAllowed ? 'block' : 'none';\n",
              "\n",
              "      async function convertToInteractive(key) {\n",
              "        const element = document.querySelector('#df-20109389-850a-4d49-b547-889e467c8f36');\n",
              "        const dataTable =\n",
              "          await google.colab.kernel.invokeFunction('convertToInteractive',\n",
              "                                                    [key], {});\n",
              "        if (!dataTable) return;\n",
              "\n",
              "        const docLinkHtml = 'Like what you see? Visit the ' +\n",
              "          '<a target=\"_blank\" href=https://colab.research.google.com/notebooks/data_table.ipynb>data table notebook</a>'\n",
              "          + ' to learn more about interactive tables.';\n",
              "        element.innerHTML = '';\n",
              "        dataTable['output_type'] = 'display_data';\n",
              "        await google.colab.output.renderOutput(dataTable, element);\n",
              "        const docLink = document.createElement('div');\n",
              "        docLink.innerHTML = docLinkHtml;\n",
              "        element.appendChild(docLink);\n",
              "      }\n",
              "    </script>\n",
              "  </div>\n",
              "\n",
              "\n",
              "<div id=\"df-ab864dcf-9b8a-4809-94b3-e86626312b21\">\n",
              "  <button class=\"colab-df-quickchart\" onclick=\"quickchart('df-ab864dcf-9b8a-4809-94b3-e86626312b21')\"\n",
              "            title=\"Suggest charts\"\n",
              "            style=\"display:none;\">\n",
              "\n",
              "<svg xmlns=\"http://www.w3.org/2000/svg\" height=\"24px\"viewBox=\"0 0 24 24\"\n",
              "     width=\"24px\">\n",
              "    <g>\n",
              "        <path d=\"M19 3H5c-1.1 0-2 .9-2 2v14c0 1.1.9 2 2 2h14c1.1 0 2-.9 2-2V5c0-1.1-.9-2-2-2zM9 17H7v-7h2v7zm4 0h-2V7h2v10zm4 0h-2v-4h2v4z\"/>\n",
              "    </g>\n",
              "</svg>\n",
              "  </button>\n",
              "\n",
              "<style>\n",
              "  .colab-df-quickchart {\n",
              "      --bg-color: #E8F0FE;\n",
              "      --fill-color: #1967D2;\n",
              "      --hover-bg-color: #E2EBFA;\n",
              "      --hover-fill-color: #174EA6;\n",
              "      --disabled-fill-color: #AAA;\n",
              "      --disabled-bg-color: #DDD;\n",
              "  }\n",
              "\n",
              "  [theme=dark] .colab-df-quickchart {\n",
              "      --bg-color: #3B4455;\n",
              "      --fill-color: #D2E3FC;\n",
              "      --hover-bg-color: #434B5C;\n",
              "      --hover-fill-color: #FFFFFF;\n",
              "      --disabled-bg-color: #3B4455;\n",
              "      --disabled-fill-color: #666;\n",
              "  }\n",
              "\n",
              "  .colab-df-quickchart {\n",
              "    background-color: var(--bg-color);\n",
              "    border: none;\n",
              "    border-radius: 50%;\n",
              "    cursor: pointer;\n",
              "    display: none;\n",
              "    fill: var(--fill-color);\n",
              "    height: 32px;\n",
              "    padding: 0;\n",
              "    width: 32px;\n",
              "  }\n",
              "\n",
              "  .colab-df-quickchart:hover {\n",
              "    background-color: var(--hover-bg-color);\n",
              "    box-shadow: 0 1px 2px rgba(60, 64, 67, 0.3), 0 1px 3px 1px rgba(60, 64, 67, 0.15);\n",
              "    fill: var(--button-hover-fill-color);\n",
              "  }\n",
              "\n",
              "  .colab-df-quickchart-complete:disabled,\n",
              "  .colab-df-quickchart-complete:disabled:hover {\n",
              "    background-color: var(--disabled-bg-color);\n",
              "    fill: var(--disabled-fill-color);\n",
              "    box-shadow: none;\n",
              "  }\n",
              "\n",
              "  .colab-df-spinner {\n",
              "    border: 2px solid var(--fill-color);\n",
              "    border-color: transparent;\n",
              "    border-bottom-color: var(--fill-color);\n",
              "    animation:\n",
              "      spin 1s steps(1) infinite;\n",
              "  }\n",
              "\n",
              "  @keyframes spin {\n",
              "    0% {\n",
              "      border-color: transparent;\n",
              "      border-bottom-color: var(--fill-color);\n",
              "      border-left-color: var(--fill-color);\n",
              "    }\n",
              "    20% {\n",
              "      border-color: transparent;\n",
              "      border-left-color: var(--fill-color);\n",
              "      border-top-color: var(--fill-color);\n",
              "    }\n",
              "    30% {\n",
              "      border-color: transparent;\n",
              "      border-left-color: var(--fill-color);\n",
              "      border-top-color: var(--fill-color);\n",
              "      border-right-color: var(--fill-color);\n",
              "    }\n",
              "    40% {\n",
              "      border-color: transparent;\n",
              "      border-right-color: var(--fill-color);\n",
              "      border-top-color: var(--fill-color);\n",
              "    }\n",
              "    60% {\n",
              "      border-color: transparent;\n",
              "      border-right-color: var(--fill-color);\n",
              "    }\n",
              "    80% {\n",
              "      border-color: transparent;\n",
              "      border-right-color: var(--fill-color);\n",
              "      border-bottom-color: var(--fill-color);\n",
              "    }\n",
              "    90% {\n",
              "      border-color: transparent;\n",
              "      border-bottom-color: var(--fill-color);\n",
              "    }\n",
              "  }\n",
              "</style>\n",
              "\n",
              "  <script>\n",
              "    async function quickchart(key) {\n",
              "      const quickchartButtonEl =\n",
              "        document.querySelector('#' + key + ' button');\n",
              "      quickchartButtonEl.disabled = true;  // To prevent multiple clicks.\n",
              "      quickchartButtonEl.classList.add('colab-df-spinner');\n",
              "      try {\n",
              "        const charts = await google.colab.kernel.invokeFunction(\n",
              "            'suggestCharts', [key], {});\n",
              "      } catch (error) {\n",
              "        console.error('Error during call to suggestCharts:', error);\n",
              "      }\n",
              "      quickchartButtonEl.classList.remove('colab-df-spinner');\n",
              "      quickchartButtonEl.classList.add('colab-df-quickchart-complete');\n",
              "    }\n",
              "    (() => {\n",
              "      let quickchartButtonEl =\n",
              "        document.querySelector('#df-ab864dcf-9b8a-4809-94b3-e86626312b21 button');\n",
              "      quickchartButtonEl.style.display =\n",
              "        google.colab.kernel.accessAllowed ? 'block' : 'none';\n",
              "    })();\n",
              "  </script>\n",
              "</div>\n",
              "\n",
              "    </div>\n",
              "  </div>\n"
            ],
            "application/vnd.google.colaboratory.intrinsic+json": {
              "type": "dataframe",
              "variable_name": "Disease_Treatment_df",
              "summary": "{\n  \"name\": \"Disease_Treatment_df\",\n  \"rows\": 124,\n  \"fields\": [\n    {\n      \"column\": \"Diseases\",\n      \"properties\": {\n        \"dtype\": \"string\",\n        \"num_unique_values\": 124,\n        \"samples\": [\n          \"malignant pleural mesothelioma\",\n          \"radiation-induced myelopathy\",\n          \"fungal infections\"\n        ],\n        \"semantic_type\": \"\",\n        \"description\": \"\"\n      }\n    },\n    {\n      \"column\": \"Treatment\",\n      \"properties\": {\n        \"dtype\": \"object\",\n        \"semantic_type\": \"\",\n        \"description\": \"\"\n      }\n    }\n  ]\n}"
            }
          },
          "metadata": {},
          "execution_count": 45
        }
      ],
      "source": [
        "# lets view some records from Dictionary\n",
        "Disease_Treatment_df = pd.DataFrame(columns=['Diseases','Treatment'])\n",
        "i = 0\n",
        "for k, v in DiseaseTreatment_dict.items():\n",
        "  l = [k, v]\n",
        "  Disease_Treatment_df.loc[len(Disease_Treatment_df.index)] = l\n",
        "Disease_Treatment_df.head(5)"
      ]
    },
    {
      "cell_type": "markdown",
      "metadata": {
        "id": "TvTodSY5OfZ9"
      },
      "source": [
        "### Predict the treatment for the disease name: 'hereditary retinoblastoma'"
      ]
    },
    {
      "cell_type": "code",
      "execution_count": 46,
      "metadata": {
        "colab": {
          "base_uri": "https://localhost:8080/"
        },
        "id": "uZNBLMFYVuhv",
        "outputId": "a401bca1-63c0-4fc0-ede7-86fa84e56655"
      },
      "outputs": [
        {
          "output_type": "stream",
          "name": "stdout",
          "text": [
            "Treatment for Disease 'hereditary retinoblastoma' is 'radiotherapy'\n"
          ]
        }
      ],
      "source": [
        "disease = 'hereditary retinoblastoma'\n",
        "print(\"Treatment for Disease '\"+ disease+ \"' is '\"+ DiseaseTreatment_dict[disease]+\"'\")"
      ]
    },
    {
      "cell_type": "code",
      "execution_count": 46,
      "metadata": {
        "id": "hTvdr6-Oh5lU"
      },
      "outputs": [],
      "source": []
    }
  ],
  "metadata": {
    "accelerator": "GPU",
    "colab": {
      "provenance": [],
      "include_colab_link": true
    },
    "gpuClass": "standard",
    "kernelspec": {
      "display_name": "Python 3",
      "language": "python",
      "name": "python3"
    },
    "language_info": {
      "codemirror_mode": {
        "name": "ipython",
        "version": 3
      },
      "file_extension": ".py",
      "mimetype": "text/x-python",
      "name": "python",
      "nbconvert_exporter": "python",
      "pygments_lexer": "ipython3",
      "version": "3.11.9"
    }
  },
  "nbformat": 4,
  "nbformat_minor": 0
}